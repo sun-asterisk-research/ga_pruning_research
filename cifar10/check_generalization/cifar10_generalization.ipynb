{
 "cells": [
  {
   "cell_type": "code",
   "execution_count": 1,
   "id": "d606cbd3",
   "metadata": {},
   "outputs": [
    {
     "name": "stdout",
     "output_type": "stream",
     "text": [
      "Mon Nov 29 14:35:24 2021       \r\n",
      "+-----------------------------------------------------------------------------+\r\n",
      "| NVIDIA-SMI 440.82       Driver Version: 440.82       CUDA Version: 10.2     |\r\n",
      "|-------------------------------+----------------------+----------------------+\r\n",
      "| GPU  Name        Persistence-M| Bus-Id        Disp.A | Volatile Uncorr. ECC |\r\n",
      "| Fan  Temp  Perf  Pwr:Usage/Cap|         Memory-Usage | GPU-Util  Compute M. |\r\n",
      "|===============================+======================+======================|\r\n",
      "|   0  GeForce RTX 208...  Off  | 00000000:01:00.0 Off |                  N/A |\r\n",
      "| 48%   60C    P0    37W / 260W |      0MiB / 11016MiB |      0%      Default |\r\n",
      "+-------------------------------+----------------------+----------------------+\r\n",
      "                                                                               \r\n",
      "+-----------------------------------------------------------------------------+\r\n",
      "| Processes:                                                       GPU Memory |\r\n",
      "|  GPU       PID   Type   Process name                             Usage      |\r\n",
      "|=============================================================================|\r\n",
      "|  No running processes found                                                 |\r\n",
      "+-----------------------------------------------------------------------------+\r\n"
     ]
    }
   ],
   "source": [
    "!nvidia-smi"
   ]
  },
  {
   "cell_type": "code",
   "execution_count": 2,
   "id": "d1c3801d",
   "metadata": {},
   "outputs": [],
   "source": [
    "import torch\n",
    "import torchvision\n",
    "import torchvision.transforms as transforms\n",
    "import random\n",
    "import matplotlib.pyplot as plt\n",
    "import numpy as np\n",
    "import math"
   ]
  },
  {
   "cell_type": "code",
   "execution_count": 4,
   "id": "d37e9ae3",
   "metadata": {},
   "outputs": [],
   "source": [
    "transform = transforms.Compose(\n",
    "    [transforms.ToTensor(),\n",
    "     transforms.Normalize((0.5, 0.5, 0.5), (0.5, 0.5, 0.5))])"
   ]
  },
  {
   "cell_type": "code",
   "execution_count": 5,
   "id": "25cc0f7a",
   "metadata": {},
   "outputs": [
    {
     "name": "stdout",
     "output_type": "stream",
     "text": [
      "Files already downloaded and verified\n",
      "Files already downloaded and verified\n"
     ]
    }
   ],
   "source": [
    "batch_size = 2500\n",
    "\n",
    "trainset = torchvision.datasets.CIFAR10(root='./data', train=True,\n",
    "                                        download=True, transform=transform)\n",
    "trainloader = torch.utils.data.DataLoader(trainset, batch_size=batch_size,\n",
    "                                          shuffle=True, num_workers=2)\n",
    "\n",
    "testset = torchvision.datasets.CIFAR10(root='./data', train=False,\n",
    "                                       download=True, transform=transform)\n",
    "testloader = torch.utils.data.DataLoader(testset, batch_size=batch_size,\n",
    "                                         shuffle=False, num_workers=2)\n",
    "\n",
    "classes = ('plane', 'car', 'bird', 'cat',\n",
    "           'deer', 'dog', 'frog', 'horse', 'ship', 'truck')"
   ]
  },
  {
   "cell_type": "code",
   "execution_count": 7,
   "id": "6fa05b00",
   "metadata": {},
   "outputs": [],
   "source": [
    "import torch.nn as nn\n",
    "import torch.nn.functional as F\n",
    "\n",
    "\n",
    "class Net(nn.Module):\n",
    "    def __init__(self, input_shape=(3,32,32)):\n",
    "        super(Net, self).__init__()\n",
    "        self.conv1 = nn.Conv2d(3, 64, 3, 1, bias=False)\n",
    "        self.conv2 = nn.Conv2d(64, 128, 3, 1, bias=False)\n",
    "        self.conv3 = nn.Conv2d(128, 256, 3, 1, bias=False)\n",
    "        self.conv4 = nn.Conv2d(256, 512, 3, 1, bias=False)\n",
    "        self.pool = nn.MaxPool2d(2, 2)\n",
    "        n_sizes = self._get_conv_output(input_shape)\n",
    "        self.fc1 = nn.Linear(n_sizes, 512, bias=False)\n",
    "        self.fc2 = nn.Linear(512, 128, bias=False)\n",
    "        self.fc3 = nn.Linear(128, 10, bias=False)\n",
    "\n",
    "    def forward(self, x):\n",
    "        x = self._forward_features(x)\n",
    "        x = x.view(x.size(0), -1)\n",
    "        x = F.relu(self.fc1(x))\n",
    "        x = F.relu(self.fc2(x))\n",
    "        x = F.log_softmax(self.fc3(x), dim=1)\n",
    "        return x\n",
    "    \n",
    "    def _forward_features(self, x):\n",
    "        x = F.relu(self.conv1(x))\n",
    "        x = self.pool(F.relu(self.conv2(x)))\n",
    "        x = F.relu(self.conv3(x))\n",
    "        x = self.pool(F.relu(self.conv4(x)))\n",
    "        return x\n",
    "\n",
    "    def _get_conv_output(self, shape):\n",
    "        batch_size = 1\n",
    "        input = torch.autograd.Variable(torch.rand(batch_size, *shape))\n",
    "\n",
    "        output_feat = self._forward_features(input) \n",
    "        n_size = output_feat.data.view(batch_size, -1).size(1)\n",
    "        return n_size\n",
    "\n",
    "\n"
   ]
  },
  {
   "cell_type": "code",
   "execution_count": null,
   "id": "188830ee",
   "metadata": {},
   "outputs": [],
   "source": []
  },
  {
   "cell_type": "code",
   "execution_count": 16,
   "id": "76deb7a2",
   "metadata": {},
   "outputs": [
    {
     "name": "stdout",
     "output_type": "stream",
     "text": [
      "Accuracy of the network on the 10000 test images: 77 %\n"
     ]
    }
   ],
   "source": [
    "correct = 0\n",
    "total = 0\n",
    "# since we're not training, we don't need to calculate the gradients for our outputs\n",
    "with torch.no_grad():\n",
    "    for data in testloader:\n",
    "        images, labels = data\n",
    "        images = images.to(device)\n",
    "        labels = labels.to(device)\n",
    "        # calculate outputs by running images through the network\n",
    "        outputs = model(images)\n",
    "        # the class with the highest energy is what we choose as prediction\n",
    "        _, predicted = torch.max(outputs.data, 1)\n",
    "        total += labels.size(0)\n",
    "        correct += (predicted == labels).sum().item()\n",
    "\n",
    "print('Accuracy of the network on the 10000 test images: %d %%' % (\n",
    "    100 * correct / total))"
   ]
  },
  {
   "cell_type": "code",
   "execution_count": null,
   "id": "d1de723a",
   "metadata": {},
   "outputs": [],
   "source": []
  },
  {
   "cell_type": "code",
   "execution_count": null,
   "id": "4dc2d1c9",
   "metadata": {},
   "outputs": [],
   "source": []
  },
  {
   "cell_type": "code",
   "execution_count": 8,
   "id": "e43c683e",
   "metadata": {},
   "outputs": [
    {
     "name": "stderr",
     "output_type": "stream",
     "text": [
      "/home/doan.bao.linh/miniconda3/envs/linhdb_env/lib/python3.6/site-packages/torch/nn/functional.py:718: UserWarning: Named tensors and all their associated APIs are an experimental feature and subject to change. Please do not use them for anything important until they are released as stable. (Triggered internally at  /opt/conda/conda-bld/pytorch_1623448233824/work/c10/core/TensorImpl.h:1156.)\n",
      "  return torch.max_pool2d(input, kernel_size, stride, padding, dilation, ceil_mode)\n"
     ]
    },
    {
     "data": {
      "text/plain": [
       "<All keys matched successfully>"
      ]
     },
     "execution_count": 8,
     "metadata": {},
     "output_type": "execute_result"
    }
   ],
   "source": [
    "device = torch.device(\"cuda:0\" if torch.cuda.is_available() else \"cpu\")\n",
    "model = Net().to(device)\n",
    "model.load_state_dict(torch.load('cifar10.pth'))"
   ]
  },
  {
   "cell_type": "code",
   "execution_count": 9,
   "id": "7cf7e365",
   "metadata": {},
   "outputs": [],
   "source": [
    "module_list = [module for module in model.modules() if isinstance(module, nn.Conv2d) or isinstance(module, nn.Linear)]\n",
    "\n",
    "module_shape = [m.weight.shape for m in module_list]\n",
    "\n",
    "original_weights = [m.weight for m in module_list]"
   ]
  },
  {
   "cell_type": "code",
   "execution_count": 10,
   "id": "4628496a",
   "metadata": {},
   "outputs": [],
   "source": [
    "import torch.autograd as autograd\n",
    "from torch.optim.lr_scheduler import CosineAnnealingLR\n",
    "\n",
    "\n",
    "\n",
    "class GetSubnet(autograd.Function):\n",
    "    @staticmethod\n",
    "    def forward(ctx, scores, k):\n",
    "        # Get the supermask by sorting the scores and using the top k%\n",
    "        out = scores.clone()\n",
    "        _, idx = scores.flatten().sort()\n",
    "        j = int((1 - k) * scores.numel())\n",
    "\n",
    "        # flat_out and out access the same memory.\n",
    "        flat_out = out.flatten()\n",
    "        flat_out[idx[:j]] = 0\n",
    "        flat_out[idx[j:]] = 1\n",
    "\n",
    "        return out\n",
    "\n",
    "    @staticmethod\n",
    "    def backward(ctx, g):\n",
    "        # send the gradient g straight-through on the backward pass.\n",
    "        return g, None\n",
    "    \n",
    "class SupermaskConv(nn.Conv2d):\n",
    "    def __init__(self, *args, **kwargs):\n",
    "        super().__init__(*args, **kwargs)\n",
    "\n",
    "        # initialize the scores\n",
    "        self.scores = nn.Parameter(torch.Tensor(self.weight.size()))\n",
    "        nn.init.kaiming_uniform_(self.scores, a=math.sqrt(5))\n",
    "\n",
    "        # NOTE: initialize the weights like this.\n",
    "        nn.init.kaiming_normal_(self.weight, mode=\"fan_in\", nonlinearity=\"relu\")\n",
    "\n",
    "        # NOTE: turn the gradient on the weights off\n",
    "        self.weight.requires_grad = False\n",
    "        self.scores.requires_grad = False\n",
    "\n",
    "    def forward(self, x):\n",
    "        subnet = GetSubnet.apply(self.scores.abs(), sparsity)\n",
    "        w = self.weight * subnet\n",
    "        x = F.conv2d(\n",
    "            x, w, self.bias, self.stride, self.padding, self.dilation, self.groups\n",
    "        )\n",
    "        \n",
    "        return x\n",
    "    \n",
    "class SupermaskLinear(nn.Linear):\n",
    "    def __init__(self, *args, **kwargs):\n",
    "        super().__init__(*args, **kwargs)\n",
    "\n",
    "        # initialize the scores\n",
    "        self.scores = nn.Parameter(torch.Tensor(self.weight.size()))\n",
    "        nn.init.kaiming_uniform_(self.scores, a=math.sqrt(5))\n",
    "\n",
    "        # NOTE: initialize the weights like this.\n",
    "        nn.init.kaiming_normal_(self.weight, mode=\"fan_in\", nonlinearity=\"relu\")\n",
    "\n",
    "        # NOTE: turn the gradient on the weights off\n",
    "        self.weight.requires_grad = False\n",
    "        self.scores.requires_grad = False\n",
    "\n",
    "    def forward(self, x):\n",
    "        subnet = GetSubnet.apply(self.scores.abs(), sparsity)\n",
    "        w = self.weight * subnet\n",
    "        \n",
    "        return F.linear(x, w, self.bias)"
   ]
  },
  {
   "cell_type": "code",
   "execution_count": 12,
   "id": "abb2a534",
   "metadata": {},
   "outputs": [],
   "source": [
    "class PruneNet(nn.Module):\n",
    "    def __init__(self, input_shape=(3,32,32)):\n",
    "        super(PruneNet, self).__init__()\n",
    "        self.conv1 = SupermaskConv(3, 64, 3, 1, bias=False)\n",
    "        self.conv2 = SupermaskConv(64, 128, 3, 1, bias=False)\n",
    "        self.conv3 = SupermaskConv(128, 256, 3, 1, bias=False)\n",
    "        self.conv4 = SupermaskConv(256, 512, 3, 1, bias=False)\n",
    "        self.pool = nn.MaxPool2d(2, 2)\n",
    "        n_sizes = self._get_conv_output(input_shape)\n",
    "        self.fc1 = SupermaskLinear(n_sizes, 512, bias=False)\n",
    "        self.fc2 = SupermaskLinear(512, 128, bias=False)\n",
    "        self.fc3 = SupermaskLinear(128, 10, bias=False)\n",
    "\n",
    "    def forward(self, x):\n",
    "        x = self._forward_features(x)\n",
    "        x = x.view(x.size(0), -1)\n",
    "        x = F.relu(self.fc1(x))\n",
    "        x = F.relu(self.fc2(x))\n",
    "        x = F.log_softmax(self.fc3(x), dim=1)\n",
    "        return x\n",
    "    \n",
    "    def _forward_features(self, x):\n",
    "        x = F.relu(self.conv1(x))\n",
    "        x = self.pool(F.relu(self.conv2(x)))\n",
    "        x = F.relu(self.conv3(x))\n",
    "        x = self.pool(F.relu(self.conv4(x)))\n",
    "        return x\n",
    "\n",
    "    def _get_conv_output(self, shape):\n",
    "        batch_size = 1\n",
    "        input = torch.autograd.Variable(torch.rand(batch_size, *shape))\n",
    "\n",
    "        output_feat = self._forward_features(input) \n",
    "        n_size = output_feat.data.view(batch_size, -1).size(1)\n",
    "        return n_size\n",
    "        \n",
    "        return output"
   ]
  },
  {
   "cell_type": "code",
   "execution_count": 13,
   "id": "74bbb7f8",
   "metadata": {},
   "outputs": [],
   "source": [
    "torch.manual_seed(seed)\n",
    "seed = 2206\n",
    "sparsity = 0.5"
   ]
  },
  {
   "cell_type": "code",
   "execution_count": 15,
   "id": "6a921bf4",
   "metadata": {},
   "outputs": [
    {
     "name": "stdout",
     "output_type": "stream",
     "text": [
      "Files already downloaded and verified\n"
     ]
    }
   ],
   "source": [
    "testset = torchvision.datasets.CIFAR10(root='./data', train=False,\n",
    "                                       download=True, transform=transform)\n",
    "testloader = torch.utils.data.DataLoader(testset, batch_size=2500,\n",
    "                                         shuffle=False, num_workers=4)\n",
    "\n",
    "for data, target in testloader:\n",
    "    test_data, test_target = data.to(device), target.to(device)"
   ]
  },
  {
   "cell_type": "code",
   "execution_count": 17,
   "id": "e35a31cf",
   "metadata": {},
   "outputs": [],
   "source": [
    "ga_model = PruneNet().to(device)\n",
    "scores = []\n",
    "\n",
    "ga_module_list = [module for module in ga_model.modules() if isinstance(module, SupermaskConv) or isinstance(module, SupermaskLinear)]\n",
    "\n",
    "# Update weight of ga model with original trained model \n",
    "\n",
    "for i, weight in enumerate(original_weights):\n",
    "    ga_module_list[i].weight = weight"
   ]
  },
  {
   "cell_type": "code",
   "execution_count": 20,
   "id": "5a50ae29",
   "metadata": {},
   "outputs": [],
   "source": [
    "class Agent:\n",
    "    def __init__(self, params):\n",
    "        self.params = params\n",
    "        self.fitness = 0\n",
    "        \n",
    "    def set_fitness(self, fitness):\n",
    "        self.fitness = fitness"
   ]
  },
  {
   "cell_type": "code",
   "execution_count": 21,
   "id": "8e74f0d1",
   "metadata": {},
   "outputs": [],
   "source": [
    "# Init population\n",
    "\n",
    "def init_pop(pop_size=100):\n",
    "    population = []\n",
    "    for _ in range(pop_size):\n",
    "        params = []\n",
    "        for shape in module_shape:\n",
    "            scores = nn.Parameter(torch.Tensor(shape))\n",
    "            nn.init.kaiming_uniform_(scores, a=math.sqrt(5))\n",
    "            params.append(scores)\n",
    "        agent = Agent(params=params)\n",
    "        population.append(agent)\n",
    "    return population"
   ]
  },
  {
   "cell_type": "code",
   "execution_count": 22,
   "id": "eeb8930d",
   "metadata": {},
   "outputs": [],
   "source": [
    "def change_scores(module_list, agent):\n",
    "    for i, m_scores in enumerate(agent.params):\n",
    "        module_list[i].scores = m_scores"
   ]
  },
  {
   "cell_type": "code",
   "execution_count": 23,
   "id": "fd157ff5",
   "metadata": {},
   "outputs": [],
   "source": [
    "def mutation(agent, mut_rate=0.1):\n",
    "    params = []\n",
    "    for param in agent.params:\n",
    "        out = param.clone()\n",
    "        # flat_out and out share the same memory\n",
    "        flat_out = out.flatten().to(device)\n",
    "        # Get index mutation \n",
    "        indexes = np.where(np.random.uniform(low=0, high=1, size=(len(flat_out))) < mut_rate)\n",
    "        replace_values = np.random.uniform(low=-1, high=1, size=(len(flat_out)))[indexes]\n",
    "        # Mutation\n",
    "        flat_out.index_copy_(0, torch.LongTensor(indexes[0]).to(device), torch.FloatTensor(replace_values).to(device))\n",
    "        params.append(nn.Parameter(out))\n",
    "    return Agent(params=params)"
   ]
  },
  {
   "cell_type": "code",
   "execution_count": 24,
   "id": "4d57b527",
   "metadata": {},
   "outputs": [],
   "source": [
    "def recombine_agent(agent_1, agent_2):\n",
    "    params_1 = []\n",
    "    params_2 = []\n",
    "    for i, param in enumerate(agent_1.params):\n",
    "        param_1 = param.clone()\n",
    "        param_2 = agent_2.params[i].clone()\n",
    "        # Flatten \n",
    "        flat_1 = param_1.flatten().to(device)\n",
    "        flat_2 = param_2.flatten().to(device)\n",
    "        # Define children\n",
    "        child_1 = torch.zeros(len(flat_1))\n",
    "        child_2 = torch.zeros(len(flat_1))\n",
    "        # Select cross point\n",
    "        cross_pt = random.randint(0, len(flat_1))\n",
    "        # Swap\n",
    "        child_1[cross_pt:len(flat_1)] = flat_1[cross_pt:len(flat_1)]\n",
    "        child_1[0:cross_pt] = flat_2[0:cross_pt]\n",
    "        child_2[cross_pt:len(flat_1)] = flat_2[cross_pt:len(flat_1)]\n",
    "        child_2[0:cross_pt] = flat_1[0:cross_pt]\n",
    "        # Append to params \n",
    "        params_1.append(nn.Parameter(child_1.reshape(module_shape[i])))\n",
    "        params_2.append(nn.Parameter(child_2.reshape(module_shape[i])))\n",
    "\n",
    "    return Agent(params_1), Agent(params_2)"
   ]
  },
  {
   "cell_type": "code",
   "execution_count": 25,
   "id": "16710a07",
   "metadata": {},
   "outputs": [],
   "source": [
    "from tqdm import tqdm \n",
    "\n",
    "def evaluate_population(pop, data_loader):\n",
    "    avg_fit = 0\n",
    "    best_fit = 0\n",
    "    for agent in tqdm(pop):\n",
    "        change_scores(ga_module_list, agent)\n",
    "        fit = test(ga_model.to(device), device, data_loader)\n",
    "        agent.fitness = fit\n",
    "        if fit > best_fit: \n",
    "            best_fit = fit\n",
    "        avg_fit += fit\n",
    "    avg_fit /= len(pop)\n",
    "    \n",
    "    return pop, avg_fit, best_fit"
   ]
  },
  {
   "cell_type": "code",
   "execution_count": 26,
   "id": "961359a4",
   "metadata": {},
   "outputs": [],
   "source": [
    "def next_generation(pop, size=100, mut_rate=0.01):\n",
    "    new_pop = []\n",
    "    while len(new_pop) < size:\n",
    "        parents = random.choices(pop, k=2, weights=[x.fitness for x in pop])\n",
    "        offspring_ = recombine_agent(parents[0],parents[1])\n",
    "        offspring = [mutation(offspring_[0], mut_rate=mut_rate), mutation(offspring_[1], mut_rate=mut_rate)]\n",
    "        new_pop.extend(offspring) #add offspring to next generation\n",
    "    return new_pop"
   ]
  },
  {
   "cell_type": "code",
   "execution_count": 27,
   "id": "365c8311",
   "metadata": {},
   "outputs": [],
   "source": [
    "def test(model, device, data_loader):\n",
    "    model.eval()\n",
    "    correct = 0\n",
    "    total = 0\n",
    "    # since we're not training, we don't need to calculate the gradients for our outputs\n",
    "    for images, labels in data_loader:\n",
    "        with torch.no_grad():\n",
    "            images = images.to(device)\n",
    "            labels = labels.to(device)\n",
    "            # calculate outputs by running images through the network\n",
    "            outputs = model(images)\n",
    "            # the class with the highest energy is what we choose as prediction\n",
    "            _, predicted = torch.max(outputs.data, 1)\n",
    "            total += labels.size(0)\n",
    "            correct += (predicted == labels).sum().item()\n",
    "    return correct/total"
   ]
  },
  {
   "cell_type": "code",
   "execution_count": 33,
   "id": "850f7322",
   "metadata": {},
   "outputs": [
    {
     "name": "stdout",
     "output_type": "stream",
     "text": [
      "Files already downloaded and verified\n",
      "Files already downloaded and verified\n"
     ]
    }
   ],
   "source": [
    "batch_size = 2500\n",
    "\n",
    "trainset = torchvision.datasets.CIFAR10(root='./data', train=True,\n",
    "                                        download=True, transform=transform)\n",
    "trainloader = torch.utils.data.DataLoader(trainset, batch_size=batch_size,\n",
    "                                          shuffle=True, num_workers=2)\n",
    "\n",
    "testset = torchvision.datasets.CIFAR10(root='./data', train=False,\n",
    "                                       download=True, transform=transform)\n",
    "testloader = torch.utils.data.DataLoader(testset, batch_size=batch_size,\n",
    "                                         shuffle=False, num_workers=2)\n"
   ]
  },
  {
   "cell_type": "code",
   "execution_count": 34,
   "id": "681ffcfe",
   "metadata": {},
   "outputs": [
    {
     "data": {
      "text/plain": [
       "(0.512, 0.60658)"
      ]
     },
     "execution_count": 34,
     "metadata": {},
     "output_type": "execute_result"
    }
   ],
   "source": [
    "test(ga_model, device, testloader), test(ga_model, device, trainloader)"
   ]
  },
  {
   "cell_type": "code",
   "execution_count": 36,
   "id": "5e7d569c",
   "metadata": {},
   "outputs": [],
   "source": [
    "import logging\n",
    "logging.basicConfig(filename=f'cifar10_check_generalization_final_2.log',\n",
    "                            filemode='a',\n",
    "                            format='%(asctime)s, %(message)s',\n",
    "                            datefmt='%H:%M:%S',\n",
    "                            level=logging.INFO)"
   ]
  },
  {
   "cell_type": "code",
   "execution_count": 37,
   "id": "9b2baeba",
   "metadata": {
    "scrolled": false
   },
   "outputs": [
    {
     "name": "stderr",
     "output_type": "stream",
     "text": [
      "100%|██████████| 30/30 [00:38<00:00,  1.28s/it]\n",
      "100%|██████████| 30/30 [02:15<00:00,  4.52s/it]\n"
     ]
    },
    {
     "name": "stdout",
     "output_type": "stream",
     "text": [
      "Generation 0 with pop_fit: | on_test 0.4905166666666666 | on_train 0.5722733333333334 | on_full 0.5605938095238095\n"
     ]
    },
    {
     "name": "stderr",
     "output_type": "stream",
     "text": [
      "100%|██████████| 30/30 [00:38<00:00,  1.30s/it]\n",
      "100%|██████████| 30/30 [02:16<00:00,  4.56s/it]\n"
     ]
    },
    {
     "name": "stdout",
     "output_type": "stream",
     "text": [
      "Generation 1 with pop_fit: | on_test 0.49876333333333334 | on_train 0.5809933333333334 | on_full 0.5692461904761905\n"
     ]
    },
    {
     "name": "stderr",
     "output_type": "stream",
     "text": [
      "100%|██████████| 30/30 [00:38<00:00,  1.30s/it]\n",
      "100%|██████████| 30/30 [02:16<00:00,  4.56s/it]\n"
     ]
    },
    {
     "name": "stdout",
     "output_type": "stream",
     "text": [
      "Generation 2 with pop_fit: | on_test 0.5015533333333334 | on_train 0.5853860000000001 | on_full 0.5734099047619049\n"
     ]
    },
    {
     "name": "stderr",
     "output_type": "stream",
     "text": [
      "100%|██████████| 60/60 [01:18<00:00,  1.30s/it]\n",
      "100%|██████████| 60/60 [04:33<00:00,  4.56s/it]\n"
     ]
    },
    {
     "name": "stdout",
     "output_type": "stream",
     "text": [
      "Generation 3 with pop_fit: | on_test 0.5076249999999999 | on_train 0.5945310000000003 | on_full 0.5821158571428573\n"
     ]
    },
    {
     "name": "stderr",
     "output_type": "stream",
     "text": [
      "100%|██████████| 60/60 [01:18<00:00,  1.32s/it]\n",
      "100%|██████████| 60/60 [04:34<00:00,  4.57s/it]\n"
     ]
    },
    {
     "name": "stdout",
     "output_type": "stream",
     "text": [
      "Generation 4 with pop_fit: | on_test 0.5149466666666667 | on_train 0.603714 | on_full 0.5910329523809523\n"
     ]
    },
    {
     "name": "stderr",
     "output_type": "stream",
     "text": [
      "100%|██████████| 60/60 [01:19<00:00,  1.32s/it]\n",
      "100%|██████████| 60/60 [04:33<00:00,  4.57s/it]\n"
     ]
    },
    {
     "name": "stdout",
     "output_type": "stream",
     "text": [
      "Generation 5 with pop_fit: | on_test 0.50498 | on_train 0.5909663333333335 | on_full 0.5786825714285716\n"
     ]
    },
    {
     "name": "stderr",
     "output_type": "stream",
     "text": [
      "100%|██████████| 60/60 [01:19<00:00,  1.32s/it]\n",
      "100%|██████████| 60/60 [04:34<00:00,  4.57s/it]\n"
     ]
    },
    {
     "name": "stdout",
     "output_type": "stream",
     "text": [
      "Generation 6 with pop_fit: | on_test 0.5137366666666668 | on_train 0.6025066666666667 | on_full 0.5898252380952381\n"
     ]
    },
    {
     "name": "stderr",
     "output_type": "stream",
     "text": [
      "100%|██████████| 60/60 [01:18<00:00,  1.31s/it]\n",
      "100%|██████████| 60/60 [04:33<00:00,  4.56s/it]\n"
     ]
    },
    {
     "name": "stdout",
     "output_type": "stream",
     "text": [
      "Generation 7 with pop_fit: | on_test 0.5157100000000001 | on_train 0.6066030000000001 | on_full 0.5936182857142859\n"
     ]
    },
    {
     "name": "stderr",
     "output_type": "stream",
     "text": [
      "100%|██████████| 60/60 [01:18<00:00,  1.31s/it]\n",
      "100%|██████████| 60/60 [04:33<00:00,  4.56s/it]\n"
     ]
    },
    {
     "name": "stdout",
     "output_type": "stream",
     "text": [
      "Generation 8 with pop_fit: | on_test 0.5220099999999996 | on_train 0.6147016666666668 | on_full 0.6014600000000001\n"
     ]
    },
    {
     "name": "stderr",
     "output_type": "stream",
     "text": [
      "100%|██████████| 60/60 [01:18<00:00,  1.31s/it]\n",
      "100%|██████████| 60/60 [04:34<00:00,  4.57s/it]\n"
     ]
    },
    {
     "name": "stdout",
     "output_type": "stream",
     "text": [
      "Generation 9 with pop_fit: | on_test 0.5293983333333334 | on_train 0.6237239999999998 | on_full 0.6102489047619046\n"
     ]
    },
    {
     "name": "stderr",
     "output_type": "stream",
     "text": [
      "100%|██████████| 60/60 [01:18<00:00,  1.31s/it]\n",
      "100%|██████████| 60/60 [04:34<00:00,  4.57s/it]\n"
     ]
    },
    {
     "name": "stdout",
     "output_type": "stream",
     "text": [
      "Generation 10 with pop_fit: | on_test 0.5254383333333335 | on_train 0.6197429999999999 | on_full 0.6062709047619047\n"
     ]
    },
    {
     "name": "stderr",
     "output_type": "stream",
     "text": [
      "100%|██████████| 60/60 [01:18<00:00,  1.32s/it]\n",
      "100%|██████████| 60/60 [04:34<00:00,  4.57s/it]\n"
     ]
    },
    {
     "name": "stdout",
     "output_type": "stream",
     "text": [
      "Generation 11 with pop_fit: | on_test 0.5245066666666666 | on_train 0.6191676666666667 | on_full 0.6056446666666666\n"
     ]
    },
    {
     "name": "stderr",
     "output_type": "stream",
     "text": [
      "100%|██████████| 60/60 [01:18<00:00,  1.31s/it]\n",
      "100%|██████████| 60/60 [04:34<00:00,  4.57s/it]\n"
     ]
    },
    {
     "name": "stdout",
     "output_type": "stream",
     "text": [
      "Generation 12 with pop_fit: | on_test 0.5285816666666665 | on_train 0.6259756666666667 | on_full 0.6120622380952382\n"
     ]
    },
    {
     "name": "stderr",
     "output_type": "stream",
     "text": [
      "100%|██████████| 60/60 [01:19<00:00,  1.32s/it]\n",
      "100%|██████████| 60/60 [04:34<00:00,  4.57s/it]\n"
     ]
    },
    {
     "name": "stdout",
     "output_type": "stream",
     "text": [
      "Generation 13 with pop_fit: | on_test 0.5411833333333333 | on_train 0.6407406666666666 | on_full 0.6265181904761904\n"
     ]
    },
    {
     "name": "stderr",
     "output_type": "stream",
     "text": [
      "100%|██████████| 60/60 [01:19<00:00,  1.32s/it]\n",
      "100%|██████████| 60/60 [04:34<00:00,  4.57s/it]\n"
     ]
    },
    {
     "name": "stdout",
     "output_type": "stream",
     "text": [
      "Generation 14 with pop_fit: | on_test 0.5459866666666667 | on_train 0.6452410000000001 | on_full 0.6310618095238096\n"
     ]
    },
    {
     "name": "stderr",
     "output_type": "stream",
     "text": [
      "100%|██████████| 60/60 [01:18<00:00,  1.32s/it]\n",
      "100%|██████████| 60/60 [04:34<00:00,  4.57s/it]\n"
     ]
    },
    {
     "name": "stdout",
     "output_type": "stream",
     "text": [
      "Generation 15 with pop_fit: | on_test 0.5419733333333334 | on_train 0.640748 | on_full 0.6266373333333333\n"
     ]
    },
    {
     "name": "stderr",
     "output_type": "stream",
     "text": [
      "100%|██████████| 60/60 [01:19<00:00,  1.32s/it]\n",
      "100%|██████████| 60/60 [04:34<00:00,  4.57s/it]\n"
     ]
    },
    {
     "name": "stdout",
     "output_type": "stream",
     "text": [
      "Generation 16 with pop_fit: | on_test 0.54088 | on_train 0.6386226666666668 | on_full 0.6246594285714286\n"
     ]
    },
    {
     "name": "stderr",
     "output_type": "stream",
     "text": [
      "100%|██████████| 60/60 [01:18<00:00,  1.32s/it]\n",
      "100%|██████████| 60/60 [04:34<00:00,  4.57s/it]\n"
     ]
    },
    {
     "name": "stdout",
     "output_type": "stream",
     "text": [
      "Generation 17 with pop_fit: | on_test 0.5471516666666668 | on_train 0.6468306666666666 | on_full 0.6325908095238094\n"
     ]
    },
    {
     "name": "stderr",
     "output_type": "stream",
     "text": [
      "100%|██████████| 60/60 [01:18<00:00,  1.32s/it]\n",
      "100%|██████████| 60/60 [04:34<00:00,  4.57s/it]\n"
     ]
    },
    {
     "name": "stdout",
     "output_type": "stream",
     "text": [
      "Generation 18 with pop_fit: | on_test 0.544255 | on_train 0.6426370000000002 | on_full 0.6285824285714288\n"
     ]
    },
    {
     "name": "stderr",
     "output_type": "stream",
     "text": [
      "100%|██████████| 60/60 [01:19<00:00,  1.32s/it]\n",
      "100%|██████████| 60/60 [04:34<00:00,  4.58s/it]\n"
     ]
    },
    {
     "name": "stdout",
     "output_type": "stream",
     "text": [
      "Generation 19 with pop_fit: | on_test 0.5466966666666667 | on_train 0.6463846666666666 | on_full 0.6321435238095238\n"
     ]
    },
    {
     "name": "stderr",
     "output_type": "stream",
     "text": [
      "100%|██████████| 60/60 [01:18<00:00,  1.31s/it]\n",
      "100%|██████████| 60/60 [04:34<00:00,  4.58s/it]\n"
     ]
    },
    {
     "name": "stdout",
     "output_type": "stream",
     "text": [
      "Generation 20 with pop_fit: | on_test 0.5433183333333336 | on_train 0.6412006666666666 | on_full 0.6272174761904762\n"
     ]
    },
    {
     "name": "stderr",
     "output_type": "stream",
     "text": [
      "100%|██████████| 60/60 [01:19<00:00,  1.32s/it]\n",
      "100%|██████████| 60/60 [04:34<00:00,  4.57s/it]\n"
     ]
    },
    {
     "name": "stdout",
     "output_type": "stream",
     "text": [
      "Generation 21 with pop_fit: | on_test 0.5371700000000003 | on_train 0.632985 | on_full 0.6192971428571429\n"
     ]
    },
    {
     "name": "stderr",
     "output_type": "stream",
     "text": [
      "100%|██████████| 60/60 [01:18<00:00,  1.31s/it]\n",
      "100%|██████████| 60/60 [04:34<00:00,  4.57s/it]\n"
     ]
    },
    {
     "name": "stdout",
     "output_type": "stream",
     "text": [
      "Generation 22 with pop_fit: | on_test 0.53989 | on_train 0.6352226666666664 | on_full 0.6216037142857139\n"
     ]
    },
    {
     "name": "stderr",
     "output_type": "stream",
     "text": [
      "100%|██████████| 60/60 [01:18<00:00,  1.32s/it]\n",
      "100%|██████████| 60/60 [04:34<00:00,  4.57s/it]\n"
     ]
    },
    {
     "name": "stdout",
     "output_type": "stream",
     "text": [
      "Generation 23 with pop_fit: | on_test 0.5401866666666666 | on_train 0.6360913333333333 | on_full 0.6223906666666666\n"
     ]
    },
    {
     "name": "stderr",
     "output_type": "stream",
     "text": [
      "100%|██████████| 60/60 [01:19<00:00,  1.32s/it]\n",
      "100%|██████████| 60/60 [04:34<00:00,  4.58s/it]\n"
     ]
    },
    {
     "name": "stdout",
     "output_type": "stream",
     "text": [
      "Generation 24 with pop_fit: | on_test 0.542355 | on_train 0.6403883333333333 | on_full 0.6263835714285715\n"
     ]
    },
    {
     "name": "stderr",
     "output_type": "stream",
     "text": [
      "100%|██████████| 60/60 [01:19<00:00,  1.32s/it]\n",
      "100%|██████████| 60/60 [04:34<00:00,  4.58s/it]\n"
     ]
    },
    {
     "name": "stdout",
     "output_type": "stream",
     "text": [
      "Generation 25 with pop_fit: | on_test 0.5383466666666668 | on_train 0.6349809999999998 | on_full 0.621176095238095\n"
     ]
    },
    {
     "name": "stderr",
     "output_type": "stream",
     "text": [
      "100%|██████████| 60/60 [01:19<00:00,  1.32s/it]\n",
      "100%|██████████| 60/60 [04:34<00:00,  4.57s/it]\n"
     ]
    },
    {
     "name": "stdout",
     "output_type": "stream",
     "text": [
      "Generation 26 with pop_fit: | on_test 0.5436716666666667 | on_train 0.6415976666666666 | on_full 0.627608238095238\n"
     ]
    },
    {
     "name": "stderr",
     "output_type": "stream",
     "text": [
      "100%|██████████| 60/60 [01:19<00:00,  1.32s/it]\n",
      "100%|██████████| 60/60 [04:34<00:00,  4.57s/it]\n"
     ]
    },
    {
     "name": "stdout",
     "output_type": "stream",
     "text": [
      "Generation 27 with pop_fit: | on_test 0.539925 | on_train 0.6355999999999999 | on_full 0.6219321428571428\n"
     ]
    },
    {
     "name": "stderr",
     "output_type": "stream",
     "text": [
      "100%|██████████| 60/60 [01:18<00:00,  1.32s/it]\n",
      "100%|██████████| 60/60 [04:34<00:00,  4.57s/it]\n"
     ]
    },
    {
     "name": "stdout",
     "output_type": "stream",
     "text": [
      "Generation 28 with pop_fit: | on_test 0.53885 | on_train 0.6346236666666666 | on_full 0.6209417142857142\n"
     ]
    },
    {
     "name": "stderr",
     "output_type": "stream",
     "text": [
      "100%|██████████| 60/60 [01:19<00:00,  1.32s/it]\n",
      "100%|██████████| 60/60 [04:34<00:00,  4.57s/it]\n"
     ]
    },
    {
     "name": "stdout",
     "output_type": "stream",
     "text": [
      "Generation 29 with pop_fit: | on_test 0.5368666666666665 | on_train 0.6320776666666666 | on_full 0.6184760952380952\n"
     ]
    },
    {
     "name": "stderr",
     "output_type": "stream",
     "text": [
      "100%|██████████| 60/60 [01:18<00:00,  1.32s/it]\n",
      "100%|██████████| 60/60 [04:34<00:00,  4.57s/it]\n"
     ]
    },
    {
     "name": "stdout",
     "output_type": "stream",
     "text": [
      "Generation 30 with pop_fit: | on_test 0.5423266666666666 | on_train 0.6409443333333334 | on_full 0.6268560952380954\n"
     ]
    },
    {
     "name": "stderr",
     "output_type": "stream",
     "text": [
      "100%|██████████| 60/60 [01:19<00:00,  1.32s/it]\n",
      "100%|██████████| 60/60 [04:34<00:00,  4.57s/it]\n"
     ]
    },
    {
     "name": "stdout",
     "output_type": "stream",
     "text": [
      "Generation 31 with pop_fit: | on_test 0.5397316666666668 | on_train 0.6370349999999997 | on_full 0.6231345238095235\n"
     ]
    },
    {
     "name": "stderr",
     "output_type": "stream",
     "text": [
      "100%|██████████| 60/60 [01:19<00:00,  1.32s/it]\n",
      "100%|██████████| 60/60 [04:34<00:00,  4.57s/it]\n"
     ]
    },
    {
     "name": "stdout",
     "output_type": "stream",
     "text": [
      "Generation 32 with pop_fit: | on_test 0.5359283333333333 | on_train 0.6329746666666668 | on_full 0.6191109047619049\n"
     ]
    },
    {
     "name": "stderr",
     "output_type": "stream",
     "text": [
      "100%|██████████| 60/60 [01:19<00:00,  1.32s/it]\n",
      "100%|██████████| 60/60 [04:34<00:00,  4.58s/it]\n"
     ]
    },
    {
     "name": "stdout",
     "output_type": "stream",
     "text": [
      "Generation 33 with pop_fit: | on_test 0.5425183333333332 | on_train 0.6408076666666667 | on_full 0.6267663333333333\n"
     ]
    },
    {
     "name": "stderr",
     "output_type": "stream",
     "text": [
      "100%|██████████| 60/60 [01:19<00:00,  1.32s/it]\n",
      "100%|██████████| 60/60 [04:34<00:00,  4.57s/it]\n"
     ]
    },
    {
     "name": "stdout",
     "output_type": "stream",
     "text": [
      "Generation 34 with pop_fit: | on_test 0.5411633333333333 | on_train 0.639417 | on_full 0.625380761904762\n"
     ]
    },
    {
     "name": "stderr",
     "output_type": "stream",
     "text": [
      "100%|██████████| 60/60 [01:19<00:00,  1.32s/it]\n",
      "100%|██████████| 60/60 [04:34<00:00,  4.58s/it]\n"
     ]
    },
    {
     "name": "stdout",
     "output_type": "stream",
     "text": [
      "Generation 35 with pop_fit: | on_test 0.5462433333333332 | on_train 0.6465960000000001 | on_full 0.6322599047619047\n"
     ]
    },
    {
     "name": "stderr",
     "output_type": "stream",
     "text": [
      "100%|██████████| 60/60 [01:19<00:00,  1.32s/it]\n",
      "100%|██████████| 60/60 [04:34<00:00,  4.57s/it]\n"
     ]
    },
    {
     "name": "stdout",
     "output_type": "stream",
     "text": [
      "Generation 36 with pop_fit: | on_test 0.5445366666666666 | on_train 0.6433683333333332 | on_full 0.6292495238095237\n"
     ]
    },
    {
     "name": "stderr",
     "output_type": "stream",
     "text": [
      "100%|██████████| 60/60 [01:19<00:00,  1.32s/it]\n",
      "100%|██████████| 60/60 [04:34<00:00,  4.57s/it]\n"
     ]
    },
    {
     "name": "stdout",
     "output_type": "stream",
     "text": [
      "Generation 37 with pop_fit: | on_test 0.5454399999999998 | on_train 0.6427153333333333 | on_full 0.6288188571428571\n"
     ]
    },
    {
     "name": "stderr",
     "output_type": "stream",
     "text": [
      "100%|██████████| 60/60 [01:19<00:00,  1.32s/it]\n",
      "100%|██████████| 60/60 [04:34<00:00,  4.57s/it]\n"
     ]
    },
    {
     "name": "stdout",
     "output_type": "stream",
     "text": [
      "Generation 38 with pop_fit: | on_test 0.5419966666666665 | on_train 0.640991 | on_full 0.6268489523809523\n"
     ]
    },
    {
     "name": "stderr",
     "output_type": "stream",
     "text": [
      "100%|██████████| 60/60 [01:18<00:00,  1.32s/it]\n",
      "100%|██████████| 60/60 [04:34<00:00,  4.57s/it]\n"
     ]
    },
    {
     "name": "stdout",
     "output_type": "stream",
     "text": [
      "Generation 39 with pop_fit: | on_test 0.5496583333333334 | on_train 0.6504106666666665 | on_full 0.636017476190476\n"
     ]
    },
    {
     "name": "stderr",
     "output_type": "stream",
     "text": [
      "100%|██████████| 60/60 [01:19<00:00,  1.32s/it]\n",
      "100%|██████████| 60/60 [04:34<00:00,  4.58s/it]\n"
     ]
    },
    {
     "name": "stdout",
     "output_type": "stream",
     "text": [
      "Generation 40 with pop_fit: | on_test 0.549925 | on_train 0.6506553333333333 | on_full 0.6362652857142856\n"
     ]
    },
    {
     "name": "stderr",
     "output_type": "stream",
     "text": [
      "100%|██████████| 60/60 [01:19<00:00,  1.32s/it]\n",
      "100%|██████████| 60/60 [04:34<00:00,  4.57s/it]\n"
     ]
    },
    {
     "name": "stdout",
     "output_type": "stream",
     "text": [
      "Generation 41 with pop_fit: | on_test 0.5549999999999999 | on_train 0.6567510000000001 | on_full 0.642215142857143\n"
     ]
    },
    {
     "name": "stderr",
     "output_type": "stream",
     "text": [
      "100%|██████████| 60/60 [01:18<00:00,  1.32s/it]\n",
      "100%|██████████| 60/60 [04:34<00:00,  4.57s/it]\n"
     ]
    },
    {
     "name": "stdout",
     "output_type": "stream",
     "text": [
      "Generation 42 with pop_fit: | on_test 0.5540266666666668 | on_train 0.6569896666666665 | on_full 0.6422806666666665\n"
     ]
    },
    {
     "name": "stderr",
     "output_type": "stream",
     "text": [
      "100%|██████████| 60/60 [01:19<00:00,  1.32s/it]\n",
      "100%|██████████| 60/60 [04:34<00:00,  4.57s/it]\n"
     ]
    },
    {
     "name": "stdout",
     "output_type": "stream",
     "text": [
      "Generation 43 with pop_fit: | on_test 0.5595483333333335 | on_train 0.6635393333333334 | on_full 0.6486834761904763\n"
     ]
    },
    {
     "name": "stderr",
     "output_type": "stream",
     "text": [
      "100%|██████████| 60/60 [01:19<00:00,  1.32s/it]\n",
      "100%|██████████| 60/60 [04:34<00:00,  4.57s/it]\n"
     ]
    },
    {
     "name": "stdout",
     "output_type": "stream",
     "text": [
      "Generation 44 with pop_fit: | on_test 0.5625599999999998 | on_train 0.6672213333333336 | on_full 0.6522697142857145\n"
     ]
    },
    {
     "name": "stderr",
     "output_type": "stream",
     "text": [
      "100%|██████████| 60/60 [01:19<00:00,  1.32s/it]\n",
      "100%|██████████| 60/60 [04:34<00:00,  4.57s/it]\n"
     ]
    },
    {
     "name": "stdout",
     "output_type": "stream",
     "text": [
      "Generation 45 with pop_fit: | on_test 0.5681266666666666 | on_train 0.6733579999999999 | on_full 0.6583249523809522\n"
     ]
    },
    {
     "name": "stderr",
     "output_type": "stream",
     "text": [
      "100%|██████████| 60/60 [01:19<00:00,  1.32s/it]\n",
      "100%|██████████| 60/60 [04:34<00:00,  4.57s/it]\n"
     ]
    },
    {
     "name": "stdout",
     "output_type": "stream",
     "text": [
      "Generation 46 with pop_fit: | on_test 0.5653333333333331 | on_train 0.6693713333333334 | on_full 0.654508761904762\n"
     ]
    },
    {
     "name": "stderr",
     "output_type": "stream",
     "text": [
      "100%|██████████| 60/60 [01:18<00:00,  1.32s/it]\n",
      "100%|██████████| 60/60 [04:34<00:00,  4.58s/it]\n"
     ]
    },
    {
     "name": "stdout",
     "output_type": "stream",
     "text": [
      "Generation 47 with pop_fit: | on_test 0.5629150000000002 | on_train 0.6670036666666664 | on_full 0.652133857142857\n"
     ]
    },
    {
     "name": "stderr",
     "output_type": "stream",
     "text": [
      "100%|██████████| 60/60 [01:19<00:00,  1.32s/it]\n",
      "100%|██████████| 60/60 [04:34<00:00,  4.58s/it]\n"
     ]
    },
    {
     "name": "stdout",
     "output_type": "stream",
     "text": [
      "Generation 48 with pop_fit: | on_test 0.5635833333333332 | on_train 0.6671613333333332 | on_full 0.652364476190476\n"
     ]
    },
    {
     "name": "stderr",
     "output_type": "stream",
     "text": [
      "100%|██████████| 60/60 [01:18<00:00,  1.32s/it]\n",
      "100%|██████████| 60/60 [04:34<00:00,  4.57s/it]\n"
     ]
    },
    {
     "name": "stdout",
     "output_type": "stream",
     "text": [
      "Generation 49 with pop_fit: | on_test 0.5651516666666666 | on_train 0.6691246666666669 | on_full 0.6542713809523812\n"
     ]
    },
    {
     "name": "stderr",
     "output_type": "stream",
     "text": [
      "100%|██████████| 60/60 [01:18<00:00,  1.32s/it]\n",
      "100%|██████████| 60/60 [04:34<00:00,  4.57s/it]\n"
     ]
    },
    {
     "name": "stdout",
     "output_type": "stream",
     "text": [
      "Generation 50 with pop_fit: | on_test 0.5661016666666665 | on_train 0.6689256666666666 | on_full 0.6542365238095238\n"
     ]
    },
    {
     "name": "stderr",
     "output_type": "stream",
     "text": [
      "100%|██████████| 60/60 [01:19<00:00,  1.32s/it]\n",
      "100%|██████████| 60/60 [04:34<00:00,  4.57s/it]\n"
     ]
    },
    {
     "name": "stdout",
     "output_type": "stream",
     "text": [
      "Generation 51 with pop_fit: | on_test 0.5630766666666667 | on_train 0.6667596666666668 | on_full 0.6519478095238096\n"
     ]
    },
    {
     "name": "stderr",
     "output_type": "stream",
     "text": [
      "100%|██████████| 60/60 [01:19<00:00,  1.32s/it]\n",
      "100%|██████████| 60/60 [04:34<00:00,  4.57s/it]\n"
     ]
    },
    {
     "name": "stdout",
     "output_type": "stream",
     "text": [
      "Generation 52 with pop_fit: | on_test 0.5617816666666667 | on_train 0.6637519999999999 | on_full 0.6491848095238095\n"
     ]
    },
    {
     "name": "stderr",
     "output_type": "stream",
     "text": [
      "100%|██████████| 60/60 [01:19<00:00,  1.32s/it]\n",
      "100%|██████████| 60/60 [04:34<00:00,  4.57s/it]\n"
     ]
    },
    {
     "name": "stdout",
     "output_type": "stream",
     "text": [
      "Generation 53 with pop_fit: | on_test 0.5615299999999998 | on_train 0.6644146666666668 | on_full 0.6497168571428572\n"
     ]
    },
    {
     "name": "stderr",
     "output_type": "stream",
     "text": [
      "100%|██████████| 60/60 [01:19<00:00,  1.32s/it]\n",
      "100%|██████████| 60/60 [04:34<00:00,  4.58s/it]\n"
     ]
    },
    {
     "name": "stdout",
     "output_type": "stream",
     "text": [
      "Generation 54 with pop_fit: | on_test 0.5660266666666668 | on_train 0.6687413333333334 | on_full 0.6540678095238096\n"
     ]
    },
    {
     "name": "stderr",
     "output_type": "stream",
     "text": [
      "100%|██████████| 60/60 [01:19<00:00,  1.32s/it]\n",
      "100%|██████████| 60/60 [04:34<00:00,  4.57s/it]\n"
     ]
    },
    {
     "name": "stdout",
     "output_type": "stream",
     "text": [
      "Generation 55 with pop_fit: | on_test 0.5646166666666667 | on_train 0.668117 | on_full 0.6533312380952381\n"
     ]
    },
    {
     "name": "stderr",
     "output_type": "stream",
     "text": [
      "100%|██████████| 60/60 [01:18<00:00,  1.32s/it]\n",
      "100%|██████████| 60/60 [04:34<00:00,  4.57s/it]\n"
     ]
    },
    {
     "name": "stdout",
     "output_type": "stream",
     "text": [
      "Generation 56 with pop_fit: | on_test 0.5695416666666667 | on_train 0.6728019999999997 | on_full 0.6580505238095234\n"
     ]
    },
    {
     "name": "stderr",
     "output_type": "stream",
     "text": [
      "100%|██████████| 60/60 [01:18<00:00,  1.32s/it]\n",
      "100%|██████████| 60/60 [04:34<00:00,  4.58s/it]\n"
     ]
    },
    {
     "name": "stdout",
     "output_type": "stream",
     "text": [
      "Generation 57 with pop_fit: | on_test 0.56689 | on_train 0.6722529999999998 | on_full 0.6572011428571427\n"
     ]
    },
    {
     "name": "stderr",
     "output_type": "stream",
     "text": [
      "100%|██████████| 60/60 [01:19<00:00,  1.32s/it]\n",
      "100%|██████████| 60/60 [04:34<00:00,  4.57s/it]\n"
     ]
    },
    {
     "name": "stdout",
     "output_type": "stream",
     "text": [
      "Generation 58 with pop_fit: | on_test 0.5715149999999999 | on_train 0.6773116666666666 | on_full 0.6621978571428571\n"
     ]
    },
    {
     "name": "stderr",
     "output_type": "stream",
     "text": [
      "100%|██████████| 60/60 [01:19<00:00,  1.32s/it]\n",
      "100%|██████████| 60/60 [04:34<00:00,  4.58s/it]\n"
     ]
    },
    {
     "name": "stdout",
     "output_type": "stream",
     "text": [
      "Generation 59 with pop_fit: | on_test 0.5667999999999999 | on_train 0.6718376666666668 | on_full 0.6568322857142858\n"
     ]
    },
    {
     "name": "stderr",
     "output_type": "stream",
     "text": [
      "100%|██████████| 60/60 [01:19<00:00,  1.32s/it]\n",
      "100%|██████████| 60/60 [04:34<00:00,  4.57s/it]\n"
     ]
    },
    {
     "name": "stdout",
     "output_type": "stream",
     "text": [
      "Generation 60 with pop_fit: | on_test 0.566695 | on_train 0.6711473333333335 | on_full 0.6562255714285715\n"
     ]
    },
    {
     "name": "stderr",
     "output_type": "stream",
     "text": [
      "100%|██████████| 60/60 [01:18<00:00,  1.31s/it]\n",
      "100%|██████████| 60/60 [04:34<00:00,  4.57s/it]\n"
     ]
    },
    {
     "name": "stdout",
     "output_type": "stream",
     "text": [
      "Generation 61 with pop_fit: | on_test 0.5660383333333333 | on_train 0.6715666666666668 | on_full 0.6564911904761905\n"
     ]
    },
    {
     "name": "stderr",
     "output_type": "stream",
     "text": [
      "100%|██████████| 60/60 [01:19<00:00,  1.32s/it]\n",
      "100%|██████████| 60/60 [04:34<00:00,  4.57s/it]\n"
     ]
    },
    {
     "name": "stdout",
     "output_type": "stream",
     "text": [
      "Generation 62 with pop_fit: | on_test 0.5708250000000002 | on_train 0.679675 | on_full 0.6641250000000001\n"
     ]
    },
    {
     "name": "stderr",
     "output_type": "stream",
     "text": [
      "100%|██████████| 60/60 [01:19<00:00,  1.32s/it]\n",
      "100%|██████████| 60/60 [04:34<00:00,  4.57s/it]\n"
     ]
    },
    {
     "name": "stdout",
     "output_type": "stream",
     "text": [
      "Generation 63 with pop_fit: | on_test 0.56986 | on_train 0.6777766666666665 | on_full 0.6623599999999998\n"
     ]
    },
    {
     "name": "stderr",
     "output_type": "stream",
     "text": [
      "100%|██████████| 60/60 [01:18<00:00,  1.32s/it]\n",
      "100%|██████████| 60/60 [04:34<00:00,  4.57s/it]\n"
     ]
    },
    {
     "name": "stdout",
     "output_type": "stream",
     "text": [
      "Generation 64 with pop_fit: | on_test 0.5743933333333332 | on_train 0.6833336666666667 | on_full 0.6677707619047618\n"
     ]
    },
    {
     "name": "stderr",
     "output_type": "stream",
     "text": [
      "100%|██████████| 60/60 [01:19<00:00,  1.32s/it]\n",
      "100%|██████████| 60/60 [04:34<00:00,  4.57s/it]\n"
     ]
    },
    {
     "name": "stdout",
     "output_type": "stream",
     "text": [
      "Generation 65 with pop_fit: | on_test 0.5797433333333333 | on_train 0.6895563333333334 | on_full 0.673868761904762\n"
     ]
    },
    {
     "name": "stderr",
     "output_type": "stream",
     "text": [
      "100%|██████████| 60/60 [01:18<00:00,  1.31s/it]\n",
      "100%|██████████| 60/60 [04:34<00:00,  4.57s/it]\n"
     ]
    },
    {
     "name": "stdout",
     "output_type": "stream",
     "text": [
      "Generation 66 with pop_fit: | on_test 0.5862216666666666 | on_train 0.697266 | on_full 0.6814025238095239\n"
     ]
    },
    {
     "name": "stderr",
     "output_type": "stream",
     "text": [
      "100%|██████████| 60/60 [01:19<00:00,  1.32s/it]\n",
      "100%|██████████| 60/60 [04:34<00:00,  4.58s/it]\n"
     ]
    },
    {
     "name": "stdout",
     "output_type": "stream",
     "text": [
      "Generation 67 with pop_fit: | on_test 0.5783100000000001 | on_train 0.6865366666666665 | on_full 0.6710757142857141\n"
     ]
    },
    {
     "name": "stderr",
     "output_type": "stream",
     "text": [
      "100%|██████████| 60/60 [01:19<00:00,  1.32s/it]\n",
      "100%|██████████| 60/60 [04:34<00:00,  4.57s/it]\n"
     ]
    },
    {
     "name": "stdout",
     "output_type": "stream",
     "text": [
      "Generation 68 with pop_fit: | on_test 0.5757533333333335 | on_train 0.6822056666666667 | on_full 0.6669981904761906\n"
     ]
    },
    {
     "name": "stderr",
     "output_type": "stream",
     "text": [
      "100%|██████████| 60/60 [01:19<00:00,  1.32s/it]\n",
      "100%|██████████| 60/60 [04:34<00:00,  4.57s/it]\n"
     ]
    },
    {
     "name": "stdout",
     "output_type": "stream",
     "text": [
      "Generation 69 with pop_fit: | on_test 0.5729483333333332 | on_train 0.6779409999999999 | on_full 0.6629420476190475\n"
     ]
    },
    {
     "name": "stderr",
     "output_type": "stream",
     "text": [
      "100%|██████████| 60/60 [01:19<00:00,  1.32s/it]\n",
      "100%|██████████| 60/60 [04:34<00:00,  4.58s/it]\n"
     ]
    },
    {
     "name": "stdout",
     "output_type": "stream",
     "text": [
      "Generation 70 with pop_fit: | on_test 0.5752166666666665 | on_train 0.6818160000000001 | on_full 0.6665875238095238\n"
     ]
    },
    {
     "name": "stderr",
     "output_type": "stream",
     "text": [
      "100%|██████████| 60/60 [01:19<00:00,  1.32s/it]\n",
      "100%|██████████| 60/60 [04:34<00:00,  4.58s/it]\n"
     ]
    },
    {
     "name": "stdout",
     "output_type": "stream",
     "text": [
      "Generation 71 with pop_fit: | on_test 0.57878 | on_train 0.6877666666666669 | on_full 0.672197142857143\n"
     ]
    },
    {
     "name": "stderr",
     "output_type": "stream",
     "text": [
      "100%|██████████| 60/60 [01:19<00:00,  1.32s/it]\n",
      "100%|██████████| 60/60 [04:34<00:00,  4.57s/it]\n"
     ]
    },
    {
     "name": "stdout",
     "output_type": "stream",
     "text": [
      "Generation 72 with pop_fit: | on_test 0.5782833333333331 | on_train 0.6874243333333335 | on_full 0.671832761904762\n"
     ]
    },
    {
     "name": "stderr",
     "output_type": "stream",
     "text": [
      "100%|██████████| 60/60 [01:18<00:00,  1.32s/it]\n",
      "100%|██████████| 60/60 [04:34<00:00,  4.58s/it]\n"
     ]
    },
    {
     "name": "stdout",
     "output_type": "stream",
     "text": [
      "Generation 73 with pop_fit: | on_test 0.5778983333333333 | on_train 0.6881390000000002 | on_full 0.6723903333333335\n"
     ]
    },
    {
     "name": "stderr",
     "output_type": "stream",
     "text": [
      "100%|██████████| 60/60 [01:19<00:00,  1.32s/it]\n",
      "100%|██████████| 60/60 [04:34<00:00,  4.57s/it]\n"
     ]
    },
    {
     "name": "stdout",
     "output_type": "stream",
     "text": [
      "Generation 74 with pop_fit: | on_test 0.5740616666666666 | on_train 0.6850223333333331 | on_full 0.6691708095238093\n"
     ]
    },
    {
     "name": "stderr",
     "output_type": "stream",
     "text": [
      "100%|██████████| 60/60 [01:18<00:00,  1.32s/it]\n",
      "100%|██████████| 60/60 [04:34<00:00,  4.58s/it]\n"
     ]
    },
    {
     "name": "stdout",
     "output_type": "stream",
     "text": [
      "Generation 75 with pop_fit: | on_test 0.5714883333333332 | on_train 0.6808786666666666 | on_full 0.6652514761904761\n"
     ]
    },
    {
     "name": "stderr",
     "output_type": "stream",
     "text": [
      "100%|██████████| 60/60 [01:19<00:00,  1.32s/it]\n",
      "100%|██████████| 60/60 [04:34<00:00,  4.57s/it]\n"
     ]
    },
    {
     "name": "stdout",
     "output_type": "stream",
     "text": [
      "Generation 76 with pop_fit: | on_test 0.5690249999999999 | on_train 0.678672 | on_full 0.6630081428571428\n"
     ]
    },
    {
     "name": "stderr",
     "output_type": "stream",
     "text": [
      "100%|██████████| 60/60 [01:19<00:00,  1.32s/it]\n",
      "100%|██████████| 60/60 [04:34<00:00,  4.57s/it]\n"
     ]
    },
    {
     "name": "stdout",
     "output_type": "stream",
     "text": [
      "Generation 77 with pop_fit: | on_test 0.57075 | on_train 0.6789006666666667 | on_full 0.6634505714285714\n"
     ]
    },
    {
     "name": "stderr",
     "output_type": "stream",
     "text": [
      "100%|██████████| 60/60 [01:19<00:00,  1.32s/it]\n",
      "100%|██████████| 60/60 [04:34<00:00,  4.57s/it]\n"
     ]
    },
    {
     "name": "stdout",
     "output_type": "stream",
     "text": [
      "Generation 78 with pop_fit: | on_test 0.572225 | on_train 0.6808919999999998 | on_full 0.6653681428571426\n"
     ]
    },
    {
     "name": "stderr",
     "output_type": "stream",
     "text": [
      "100%|██████████| 60/60 [01:19<00:00,  1.32s/it]\n",
      "100%|██████████| 60/60 [04:34<00:00,  4.58s/it]\n"
     ]
    },
    {
     "name": "stdout",
     "output_type": "stream",
     "text": [
      "Generation 79 with pop_fit: | on_test 0.5794316666666667 | on_train 0.689703 | on_full 0.6739499523809523\n"
     ]
    },
    {
     "name": "stderr",
     "output_type": "stream",
     "text": [
      "100%|██████████| 60/60 [01:19<00:00,  1.32s/it]\n",
      "100%|██████████| 60/60 [04:34<00:00,  4.57s/it]\n"
     ]
    },
    {
     "name": "stdout",
     "output_type": "stream",
     "text": [
      "Generation 80 with pop_fit: | on_test 0.5767216666666664 | on_train 0.686842 | on_full 0.6711105238095237\n"
     ]
    },
    {
     "name": "stderr",
     "output_type": "stream",
     "text": [
      "100%|██████████| 60/60 [01:19<00:00,  1.32s/it]\n",
      "100%|██████████| 60/60 [04:34<00:00,  4.58s/it]\n"
     ]
    },
    {
     "name": "stdout",
     "output_type": "stream",
     "text": [
      "Generation 81 with pop_fit: | on_test 0.5764966666666668 | on_train 0.6857579999999999 | on_full 0.670149238095238\n"
     ]
    },
    {
     "name": "stderr",
     "output_type": "stream",
     "text": [
      "100%|██████████| 60/60 [01:18<00:00,  1.32s/it]\n",
      "100%|██████████| 60/60 [04:34<00:00,  4.58s/it]\n"
     ]
    },
    {
     "name": "stdout",
     "output_type": "stream",
     "text": [
      "Generation 82 with pop_fit: | on_test 0.5773583333333332 | on_train 0.6878153333333331 | on_full 0.6720357619047618\n"
     ]
    },
    {
     "name": "stderr",
     "output_type": "stream",
     "text": [
      "100%|██████████| 60/60 [01:18<00:00,  1.32s/it]\n",
      "100%|██████████| 60/60 [04:34<00:00,  4.58s/it]\n"
     ]
    },
    {
     "name": "stdout",
     "output_type": "stream",
     "text": [
      "Generation 83 with pop_fit: | on_test 0.57738 | on_train 0.6889493333333332 | on_full 0.6730108571428569\n"
     ]
    },
    {
     "name": "stderr",
     "output_type": "stream",
     "text": [
      "100%|██████████| 60/60 [01:18<00:00,  1.32s/it]\n",
      "100%|██████████| 60/60 [04:34<00:00,  4.57s/it]\n"
     ]
    },
    {
     "name": "stdout",
     "output_type": "stream",
     "text": [
      "Generation 84 with pop_fit: | on_test 0.5766099999999998 | on_train 0.6891653333333335 | on_full 0.6730860000000002\n"
     ]
    },
    {
     "name": "stderr",
     "output_type": "stream",
     "text": [
      "100%|██████████| 60/60 [01:18<00:00,  1.32s/it]\n",
      "100%|██████████| 60/60 [04:34<00:00,  4.58s/it]\n"
     ]
    },
    {
     "name": "stdout",
     "output_type": "stream",
     "text": [
      "Generation 85 with pop_fit: | on_test 0.5791966666666667 | on_train 0.6924233333333336 | on_full 0.6762480952380955\n"
     ]
    },
    {
     "name": "stderr",
     "output_type": "stream",
     "text": [
      "100%|██████████| 60/60 [01:18<00:00,  1.31s/it]\n",
      "100%|██████████| 60/60 [04:34<00:00,  4.58s/it]\n"
     ]
    },
    {
     "name": "stdout",
     "output_type": "stream",
     "text": [
      "Generation 86 with pop_fit: | on_test 0.5765766666666667 | on_train 0.690494 | on_full 0.6742200952380953\n"
     ]
    },
    {
     "name": "stderr",
     "output_type": "stream",
     "text": [
      "100%|██████████| 60/60 [01:19<00:00,  1.32s/it]\n",
      "100%|██████████| 60/60 [04:34<00:00,  4.57s/it]\n"
     ]
    },
    {
     "name": "stdout",
     "output_type": "stream",
     "text": [
      "Generation 87 with pop_fit: | on_test 0.573575 | on_train 0.6849173333333332 | on_full 0.6690112857142856\n"
     ]
    },
    {
     "name": "stderr",
     "output_type": "stream",
     "text": [
      "100%|██████████| 60/60 [01:19<00:00,  1.32s/it]\n",
      "100%|██████████| 60/60 [04:34<00:00,  4.57s/it]\n"
     ]
    },
    {
     "name": "stdout",
     "output_type": "stream",
     "text": [
      "Generation 88 with pop_fit: | on_test 0.5733366666666667 | on_train 0.6848670000000002 | on_full 0.6689340952380955\n"
     ]
    },
    {
     "name": "stderr",
     "output_type": "stream",
     "text": [
      "100%|██████████| 60/60 [01:19<00:00,  1.32s/it]\n",
      "100%|██████████| 60/60 [04:34<00:00,  4.57s/it]\n"
     ]
    },
    {
     "name": "stdout",
     "output_type": "stream",
     "text": [
      "Generation 89 with pop_fit: | on_test 0.5744433333333335 | on_train 0.6856113333333332 | on_full 0.6697301904761905\n"
     ]
    },
    {
     "name": "stderr",
     "output_type": "stream",
     "text": [
      "100%|██████████| 60/60 [01:18<00:00,  1.31s/it]\n",
      "100%|██████████| 60/60 [04:34<00:00,  4.57s/it]\n"
     ]
    },
    {
     "name": "stdout",
     "output_type": "stream",
     "text": [
      "Generation 90 with pop_fit: | on_test 0.5747666666666666 | on_train 0.6866783333333336 | on_full 0.6706909523809527\n"
     ]
    },
    {
     "name": "stderr",
     "output_type": "stream",
     "text": [
      "100%|██████████| 60/60 [01:19<00:00,  1.32s/it]\n",
      "100%|██████████| 60/60 [04:34<00:00,  4.58s/it]\n"
     ]
    },
    {
     "name": "stdout",
     "output_type": "stream",
     "text": [
      "Generation 91 with pop_fit: | on_test 0.5797066666666667 | on_train 0.6935343333333331 | on_full 0.677273238095238\n"
     ]
    },
    {
     "name": "stderr",
     "output_type": "stream",
     "text": [
      "100%|██████████| 60/60 [01:19<00:00,  1.32s/it]\n",
      "100%|██████████| 60/60 [04:34<00:00,  4.58s/it]\n"
     ]
    },
    {
     "name": "stdout",
     "output_type": "stream",
     "text": [
      "Generation 92 with pop_fit: | on_test 0.5803466666666666 | on_train 0.6939740000000003 | on_full 0.677741523809524\n"
     ]
    },
    {
     "name": "stderr",
     "output_type": "stream",
     "text": [
      "100%|██████████| 60/60 [01:19<00:00,  1.32s/it]\n",
      "100%|██████████| 60/60 [04:34<00:00,  4.57s/it]\n"
     ]
    },
    {
     "name": "stdout",
     "output_type": "stream",
     "text": [
      "Generation 93 with pop_fit: | on_test 0.5778366666666668 | on_train 0.691249666666667 | on_full 0.6750478095238098\n"
     ]
    },
    {
     "name": "stderr",
     "output_type": "stream",
     "text": [
      "100%|██████████| 60/60 [01:19<00:00,  1.32s/it]\n",
      "100%|██████████| 60/60 [04:34<00:00,  4.57s/it]\n"
     ]
    },
    {
     "name": "stdout",
     "output_type": "stream",
     "text": [
      "Generation 94 with pop_fit: | on_test 0.5777149999999999 | on_train 0.6910406666666667 | on_full 0.6748512857142857\n"
     ]
    },
    {
     "name": "stderr",
     "output_type": "stream",
     "text": [
      "100%|██████████| 60/60 [01:19<00:00,  1.32s/it]\n",
      "100%|██████████| 60/60 [04:34<00:00,  4.58s/it]\n"
     ]
    },
    {
     "name": "stdout",
     "output_type": "stream",
     "text": [
      "Generation 95 with pop_fit: | on_test 0.5796533333333334 | on_train 0.6934433333333334 | on_full 0.677187619047619\n"
     ]
    },
    {
     "name": "stderr",
     "output_type": "stream",
     "text": [
      "100%|██████████| 60/60 [01:19<00:00,  1.32s/it]\n",
      "100%|██████████| 60/60 [04:34<00:00,  4.58s/it]\n"
     ]
    },
    {
     "name": "stdout",
     "output_type": "stream",
     "text": [
      "Generation 96 with pop_fit: | on_test 0.5822583333333333 | on_train 0.6973373333333333 | on_full 0.6808974761904761\n"
     ]
    },
    {
     "name": "stderr",
     "output_type": "stream",
     "text": [
      "100%|██████████| 60/60 [01:19<00:00,  1.32s/it]\n",
      "100%|██████████| 60/60 [04:34<00:00,  4.58s/it]\n"
     ]
    },
    {
     "name": "stdout",
     "output_type": "stream",
     "text": [
      "Generation 97 with pop_fit: | on_test 0.5800016666666666 | on_train 0.6945263333333335 | on_full 0.6781656666666668\n"
     ]
    },
    {
     "name": "stderr",
     "output_type": "stream",
     "text": [
      "100%|██████████| 60/60 [01:18<00:00,  1.32s/it]\n",
      "100%|██████████| 60/60 [04:34<00:00,  4.58s/it]\n"
     ]
    },
    {
     "name": "stdout",
     "output_type": "stream",
     "text": [
      "Generation 98 with pop_fit: | on_test 0.5803666666666666 | on_train 0.6952656666666664 | on_full 0.6788515238095236\n"
     ]
    },
    {
     "name": "stderr",
     "output_type": "stream",
     "text": [
      "100%|██████████| 60/60 [01:19<00:00,  1.32s/it]\n",
      "100%|██████████| 60/60 [04:34<00:00,  4.57s/it]\n"
     ]
    },
    {
     "name": "stdout",
     "output_type": "stream",
     "text": [
      "Generation 99 with pop_fit: | on_test 0.5763583333333332 | on_train 0.689821 | on_full 0.6736120476190476\n"
     ]
    },
    {
     "name": "stderr",
     "output_type": "stream",
     "text": [
      "100%|██████████| 60/60 [01:19<00:00,  1.32s/it]\n",
      "100%|██████████| 60/60 [04:34<00:00,  4.57s/it]\n"
     ]
    },
    {
     "name": "stdout",
     "output_type": "stream",
     "text": [
      "Generation 100 with pop_fit: | on_test 0.5774433333333334 | on_train 0.6906730000000002 | on_full 0.6744973333333334\n"
     ]
    },
    {
     "name": "stderr",
     "output_type": "stream",
     "text": [
      "100%|██████████| 60/60 [01:19<00:00,  1.32s/it]\n",
      "100%|██████████| 60/60 [04:34<00:00,  4.58s/it]\n"
     ]
    },
    {
     "name": "stdout",
     "output_type": "stream",
     "text": [
      "Generation 101 with pop_fit: | on_test 0.5788216666666667 | on_train 0.6913466666666666 | on_full 0.6752716666666665\n"
     ]
    },
    {
     "name": "stderr",
     "output_type": "stream",
     "text": [
      "100%|██████████| 60/60 [01:19<00:00,  1.32s/it]\n",
      "100%|██████████| 60/60 [04:34<00:00,  4.57s/it]\n"
     ]
    },
    {
     "name": "stdout",
     "output_type": "stream",
     "text": [
      "Generation 102 with pop_fit: | on_test 0.5752833333333333 | on_train 0.6869006666666665 | on_full 0.6709553333333332\n"
     ]
    },
    {
     "name": "stderr",
     "output_type": "stream",
     "text": [
      "100%|██████████| 60/60 [01:19<00:00,  1.32s/it]\n",
      "100%|██████████| 60/60 [04:34<00:00,  4.57s/it]\n"
     ]
    },
    {
     "name": "stdout",
     "output_type": "stream",
     "text": [
      "Generation 103 with pop_fit: | on_test 0.5718183333333333 | on_train 0.6829729999999998 | on_full 0.6670937619047618\n"
     ]
    },
    {
     "name": "stderr",
     "output_type": "stream",
     "text": [
      "100%|██████████| 60/60 [01:19<00:00,  1.32s/it]\n",
      "100%|██████████| 60/60 [04:34<00:00,  4.57s/it]\n"
     ]
    },
    {
     "name": "stdout",
     "output_type": "stream",
     "text": [
      "Generation 104 with pop_fit: | on_test 0.5691949999999999 | on_train 0.6797913333333334 | on_full 0.6639918571428572\n"
     ]
    },
    {
     "name": "stderr",
     "output_type": "stream",
     "text": [
      "100%|██████████| 60/60 [01:18<00:00,  1.32s/it]\n",
      "100%|██████████| 60/60 [04:34<00:00,  4.57s/it]\n"
     ]
    },
    {
     "name": "stdout",
     "output_type": "stream",
     "text": [
      "Generation 105 with pop_fit: | on_test 0.5755750000000001 | on_train 0.6884869999999998 | on_full 0.6723567142857141\n"
     ]
    },
    {
     "name": "stderr",
     "output_type": "stream",
     "text": [
      "100%|██████████| 60/60 [01:19<00:00,  1.32s/it]\n",
      "100%|██████████| 60/60 [04:34<00:00,  4.57s/it]\n"
     ]
    },
    {
     "name": "stdout",
     "output_type": "stream",
     "text": [
      "Generation 106 with pop_fit: | on_test 0.5778766666666667 | on_train 0.6894456666666665 | on_full 0.6735072380952379\n"
     ]
    },
    {
     "name": "stderr",
     "output_type": "stream",
     "text": [
      "100%|██████████| 60/60 [01:19<00:00,  1.32s/it]\n",
      "100%|██████████| 60/60 [04:34<00:00,  4.57s/it]\n"
     ]
    },
    {
     "name": "stdout",
     "output_type": "stream",
     "text": [
      "Generation 107 with pop_fit: | on_test 0.580065 | on_train 0.6929633333333332 | on_full 0.6768349999999999\n"
     ]
    },
    {
     "name": "stderr",
     "output_type": "stream",
     "text": [
      "100%|██████████| 60/60 [01:19<00:00,  1.32s/it]\n",
      "100%|██████████| 60/60 [04:34<00:00,  4.58s/it]\n"
     ]
    },
    {
     "name": "stdout",
     "output_type": "stream",
     "text": [
      "Generation 108 with pop_fit: | on_test 0.5786116666666665 | on_train 0.6922753333333334 | on_full 0.6760376666666666\n"
     ]
    },
    {
     "name": "stderr",
     "output_type": "stream",
     "text": [
      "100%|██████████| 60/60 [01:19<00:00,  1.32s/it]\n",
      "100%|██████████| 60/60 [04:34<00:00,  4.58s/it]\n"
     ]
    },
    {
     "name": "stdout",
     "output_type": "stream",
     "text": [
      "Generation 109 with pop_fit: | on_test 0.5807749999999999 | on_train 0.6967129999999998 | on_full 0.6801504285714284\n"
     ]
    },
    {
     "name": "stderr",
     "output_type": "stream",
     "text": [
      "100%|██████████| 60/60 [01:19<00:00,  1.32s/it]\n",
      "100%|██████████| 60/60 [04:34<00:00,  4.57s/it]\n"
     ]
    },
    {
     "name": "stdout",
     "output_type": "stream",
     "text": [
      "Generation 110 with pop_fit: | on_test 0.5844466666666664 | on_train 0.7019399999999999 | on_full 0.6851552380952379\n"
     ]
    },
    {
     "name": "stderr",
     "output_type": "stream",
     "text": [
      "100%|██████████| 60/60 [01:19<00:00,  1.32s/it]\n",
      "100%|██████████| 60/60 [04:34<00:00,  4.57s/it]\n"
     ]
    },
    {
     "name": "stdout",
     "output_type": "stream",
     "text": [
      "Generation 111 with pop_fit: | on_test 0.585025 | on_train 0.703196666666667 | on_full 0.6863150000000003\n"
     ]
    },
    {
     "name": "stderr",
     "output_type": "stream",
     "text": [
      "100%|██████████| 60/60 [01:19<00:00,  1.32s/it]\n",
      "100%|██████████| 60/60 [04:34<00:00,  4.58s/it]\n"
     ]
    },
    {
     "name": "stdout",
     "output_type": "stream",
     "text": [
      "Generation 112 with pop_fit: | on_test 0.5898600000000002 | on_train 0.7081236666666669 | on_full 0.6912288571428574\n"
     ]
    },
    {
     "name": "stderr",
     "output_type": "stream",
     "text": [
      "100%|██████████| 60/60 [01:19<00:00,  1.32s/it]\n",
      "100%|██████████| 60/60 [04:34<00:00,  4.58s/it]\n"
     ]
    },
    {
     "name": "stdout",
     "output_type": "stream",
     "text": [
      "Generation 113 with pop_fit: | on_test 0.5896416666666665 | on_train 0.708142 | on_full 0.6912133809523809\n"
     ]
    },
    {
     "name": "stderr",
     "output_type": "stream",
     "text": [
      "100%|██████████| 60/60 [01:19<00:00,  1.32s/it]\n",
      "100%|██████████| 60/60 [04:34<00:00,  4.58s/it]\n"
     ]
    },
    {
     "name": "stdout",
     "output_type": "stream",
     "text": [
      "Generation 114 with pop_fit: | on_test 0.5883516666666668 | on_train 0.70654 | on_full 0.6896559523809523\n"
     ]
    },
    {
     "name": "stderr",
     "output_type": "stream",
     "text": [
      "100%|██████████| 60/60 [01:19<00:00,  1.32s/it]\n",
      "100%|██████████| 60/60 [04:34<00:00,  4.58s/it]\n"
     ]
    },
    {
     "name": "stdout",
     "output_type": "stream",
     "text": [
      "Generation 115 with pop_fit: | on_test 0.5914050000000001 | on_train 0.7096723333333333 | on_full 0.6927770000000001\n"
     ]
    },
    {
     "name": "stderr",
     "output_type": "stream",
     "text": [
      "100%|██████████| 60/60 [01:19<00:00,  1.32s/it]\n",
      "100%|██████████| 60/60 [04:34<00:00,  4.58s/it]\n"
     ]
    },
    {
     "name": "stdout",
     "output_type": "stream",
     "text": [
      "Generation 116 with pop_fit: | on_test 0.5917133333333332 | on_train 0.7124056666666667 | on_full 0.6951639047619047\n"
     ]
    },
    {
     "name": "stderr",
     "output_type": "stream",
     "text": [
      "100%|██████████| 60/60 [01:19<00:00,  1.32s/it]\n",
      "100%|██████████| 60/60 [04:34<00:00,  4.58s/it]\n"
     ]
    },
    {
     "name": "stdout",
     "output_type": "stream",
     "text": [
      "Generation 117 with pop_fit: | on_test 0.5896716666666666 | on_train 0.7081850000000001 | on_full 0.6912545238095238\n"
     ]
    },
    {
     "name": "stderr",
     "output_type": "stream",
     "text": [
      "100%|██████████| 60/60 [01:19<00:00,  1.32s/it]\n",
      "100%|██████████| 60/60 [04:34<00:00,  4.58s/it]\n"
     ]
    },
    {
     "name": "stdout",
     "output_type": "stream",
     "text": [
      "Generation 118 with pop_fit: | on_test 0.5838533333333334 | on_train 0.7012706666666667 | on_full 0.6844967619047619\n"
     ]
    },
    {
     "name": "stderr",
     "output_type": "stream",
     "text": [
      "100%|██████████| 60/60 [01:19<00:00,  1.32s/it]\n",
      "100%|██████████| 60/60 [04:34<00:00,  4.58s/it]\n"
     ]
    },
    {
     "name": "stdout",
     "output_type": "stream",
     "text": [
      "Generation 119 with pop_fit: | on_test 0.58384 | on_train 0.7016873333333334 | on_full 0.6848520000000001\n"
     ]
    },
    {
     "name": "stderr",
     "output_type": "stream",
     "text": [
      "100%|██████████| 60/60 [01:19<00:00,  1.32s/it]\n",
      "100%|██████████| 60/60 [04:34<00:00,  4.58s/it]\n"
     ]
    },
    {
     "name": "stdout",
     "output_type": "stream",
     "text": [
      "Generation 120 with pop_fit: | on_test 0.5833233333333333 | on_train 0.6990970000000003 | on_full 0.6825579047619051\n"
     ]
    },
    {
     "name": "stderr",
     "output_type": "stream",
     "text": [
      "100%|██████████| 60/60 [01:19<00:00,  1.32s/it]\n",
      "100%|██████████| 60/60 [04:34<00:00,  4.58s/it]\n"
     ]
    },
    {
     "name": "stdout",
     "output_type": "stream",
     "text": [
      "Generation 121 with pop_fit: | on_test 0.5855083333333332 | on_train 0.7033500000000001 | on_full 0.6865154761904763\n"
     ]
    },
    {
     "name": "stderr",
     "output_type": "stream",
     "text": [
      "100%|██████████| 60/60 [01:19<00:00,  1.32s/it]\n",
      "100%|██████████| 60/60 [04:34<00:00,  4.58s/it]\n"
     ]
    },
    {
     "name": "stdout",
     "output_type": "stream",
     "text": [
      "Generation 122 with pop_fit: | on_test 0.5840350000000002 | on_train 0.701436 | on_full 0.6846644285714285\n"
     ]
    },
    {
     "name": "stderr",
     "output_type": "stream",
     "text": [
      "100%|██████████| 60/60 [01:19<00:00,  1.32s/it]\n",
      "100%|██████████| 60/60 [04:34<00:00,  4.58s/it]\n"
     ]
    },
    {
     "name": "stdout",
     "output_type": "stream",
     "text": [
      "Generation 123 with pop_fit: | on_test 0.5839700000000001 | on_train 0.7022890000000004 | on_full 0.6853862857142861\n"
     ]
    },
    {
     "name": "stderr",
     "output_type": "stream",
     "text": [
      "100%|██████████| 60/60 [01:18<00:00,  1.32s/it]\n",
      "100%|██████████| 60/60 [04:34<00:00,  4.58s/it]\n"
     ]
    },
    {
     "name": "stdout",
     "output_type": "stream",
     "text": [
      "Generation 124 with pop_fit: | on_test 0.5867316666666665 | on_train 0.7063626666666667 | on_full 0.6892725238095238\n"
     ]
    },
    {
     "name": "stderr",
     "output_type": "stream",
     "text": [
      "100%|██████████| 60/60 [01:18<00:00,  1.32s/it]\n",
      "100%|██████████| 60/60 [04:34<00:00,  4.58s/it]\n"
     ]
    },
    {
     "name": "stdout",
     "output_type": "stream",
     "text": [
      "Generation 125 with pop_fit: | on_test 0.5852983333333335 | on_train 0.7041876666666667 | on_full 0.6872034761904761\n"
     ]
    },
    {
     "name": "stderr",
     "output_type": "stream",
     "text": [
      "100%|██████████| 60/60 [01:19<00:00,  1.32s/it]\n",
      "100%|██████████| 60/60 [04:34<00:00,  4.58s/it]\n"
     ]
    },
    {
     "name": "stdout",
     "output_type": "stream",
     "text": [
      "Generation 126 with pop_fit: | on_test 0.5862233333333333 | on_train 0.7054340000000002 | on_full 0.6884039047619049\n"
     ]
    },
    {
     "name": "stderr",
     "output_type": "stream",
     "text": [
      "100%|██████████| 60/60 [01:19<00:00,  1.32s/it]\n",
      "100%|██████████| 60/60 [04:34<00:00,  4.58s/it]\n"
     ]
    },
    {
     "name": "stdout",
     "output_type": "stream",
     "text": [
      "Generation 127 with pop_fit: | on_test 0.5836999999999998 | on_train 0.702117333333333 | on_full 0.6852005714285712\n"
     ]
    },
    {
     "name": "stderr",
     "output_type": "stream",
     "text": [
      "100%|██████████| 60/60 [01:19<00:00,  1.32s/it]\n",
      "100%|██████████| 60/60 [04:34<00:00,  4.58s/it]\n"
     ]
    },
    {
     "name": "stdout",
     "output_type": "stream",
     "text": [
      "Generation 128 with pop_fit: | on_test 0.58963 | on_train 0.7094713333333331 | on_full 0.6923511428571426\n"
     ]
    },
    {
     "name": "stderr",
     "output_type": "stream",
     "text": [
      "100%|██████████| 60/60 [01:19<00:00,  1.32s/it]\n",
      "100%|██████████| 60/60 [04:34<00:00,  4.58s/it]\n"
     ]
    },
    {
     "name": "stdout",
     "output_type": "stream",
     "text": [
      "Generation 129 with pop_fit: | on_test 0.5924283333333332 | on_train 0.7129033333333336 | on_full 0.6956926190476193\n"
     ]
    },
    {
     "name": "stderr",
     "output_type": "stream",
     "text": [
      "100%|██████████| 60/60 [01:19<00:00,  1.32s/it]\n",
      "100%|██████████| 60/60 [04:34<00:00,  4.58s/it]\n"
     ]
    },
    {
     "name": "stdout",
     "output_type": "stream",
     "text": [
      "Generation 130 with pop_fit: | on_test 0.5915933333333334 | on_train 0.7113489999999999 | on_full 0.6942410476190476\n"
     ]
    },
    {
     "name": "stderr",
     "output_type": "stream",
     "text": [
      "100%|██████████| 60/60 [01:19<00:00,  1.32s/it]\n",
      "100%|██████████| 60/60 [04:34<00:00,  4.58s/it]\n"
     ]
    },
    {
     "name": "stdout",
     "output_type": "stream",
     "text": [
      "Generation 131 with pop_fit: | on_test 0.5895383333333333 | on_train 0.7085216666666667 | on_full 0.6915240476190476\n"
     ]
    },
    {
     "name": "stderr",
     "output_type": "stream",
     "text": [
      "100%|██████████| 60/60 [01:19<00:00,  1.32s/it]\n",
      "100%|██████████| 60/60 [04:34<00:00,  4.58s/it]\n"
     ]
    },
    {
     "name": "stdout",
     "output_type": "stream",
     "text": [
      "Generation 132 with pop_fit: | on_test 0.5908916666666666 | on_train 0.7095073333333336 | on_full 0.6925622380952383\n"
     ]
    },
    {
     "name": "stderr",
     "output_type": "stream",
     "text": [
      "100%|██████████| 60/60 [01:19<00:00,  1.32s/it]\n",
      "100%|██████████| 60/60 [04:34<00:00,  4.58s/it]\n"
     ]
    },
    {
     "name": "stdout",
     "output_type": "stream",
     "text": [
      "Generation 133 with pop_fit: | on_test 0.5923216666666666 | on_train 0.7112996666666666 | on_full 0.6943028095238094\n"
     ]
    },
    {
     "name": "stderr",
     "output_type": "stream",
     "text": [
      "100%|██████████| 60/60 [01:19<00:00,  1.32s/it]\n",
      "100%|██████████| 60/60 [04:34<00:00,  4.58s/it]\n"
     ]
    },
    {
     "name": "stdout",
     "output_type": "stream",
     "text": [
      "Generation 134 with pop_fit: | on_test 0.5932233333333335 | on_train 0.7138033333333333 | on_full 0.6965776190476191\n"
     ]
    },
    {
     "name": "stderr",
     "output_type": "stream",
     "text": [
      "100%|██████████| 60/60 [01:19<00:00,  1.32s/it]\n",
      "100%|██████████| 60/60 [04:34<00:00,  4.58s/it]\n"
     ]
    },
    {
     "name": "stdout",
     "output_type": "stream",
     "text": [
      "Generation 135 with pop_fit: | on_test 0.5933433333333336 | on_train 0.7143406666666668 | on_full 0.6970553333333335\n"
     ]
    },
    {
     "name": "stderr",
     "output_type": "stream",
     "text": [
      "100%|██████████| 60/60 [01:19<00:00,  1.32s/it]\n",
      "100%|██████████| 60/60 [04:34<00:00,  4.58s/it]\n"
     ]
    },
    {
     "name": "stdout",
     "output_type": "stream",
     "text": [
      "Generation 136 with pop_fit: | on_test 0.5925900000000001 | on_train 0.7142679999999999 | on_full 0.6968854285714287\n"
     ]
    },
    {
     "name": "stderr",
     "output_type": "stream",
     "text": [
      "100%|██████████| 60/60 [01:19<00:00,  1.32s/it]\n",
      "100%|██████████| 60/60 [04:34<00:00,  4.58s/it]\n"
     ]
    },
    {
     "name": "stdout",
     "output_type": "stream",
     "text": [
      "Generation 137 with pop_fit: | on_test 0.5898583333333333 | on_train 0.7117766666666668 | on_full 0.694359761904762\n"
     ]
    },
    {
     "name": "stderr",
     "output_type": "stream",
     "text": [
      "100%|██████████| 60/60 [01:19<00:00,  1.32s/it]\n",
      "100%|██████████| 60/60 [04:34<00:00,  4.58s/it]\n"
     ]
    },
    {
     "name": "stdout",
     "output_type": "stream",
     "text": [
      "Generation 138 with pop_fit: | on_test 0.589825 | on_train 0.7111003333333333 | on_full 0.6937752857142857\n"
     ]
    },
    {
     "name": "stderr",
     "output_type": "stream",
     "text": [
      "100%|██████████| 60/60 [01:19<00:00,  1.32s/it]\n",
      "100%|██████████| 60/60 [04:34<00:00,  4.58s/it]\n"
     ]
    },
    {
     "name": "stdout",
     "output_type": "stream",
     "text": [
      "Generation 139 with pop_fit: | on_test 0.5917499999999999 | on_train 0.7142080000000001 | on_full 0.696714\n"
     ]
    },
    {
     "name": "stderr",
     "output_type": "stream",
     "text": [
      "100%|██████████| 60/60 [01:19<00:00,  1.32s/it]\n",
      "100%|██████████| 60/60 [04:34<00:00,  4.58s/it]\n"
     ]
    },
    {
     "name": "stdout",
     "output_type": "stream",
     "text": [
      "Generation 140 with pop_fit: | on_test 0.5953083333333334 | on_train 0.7173253333333335 | on_full 0.6998943333333335\n"
     ]
    },
    {
     "name": "stderr",
     "output_type": "stream",
     "text": [
      "100%|██████████| 60/60 [01:19<00:00,  1.32s/it]\n",
      "100%|██████████| 60/60 [04:34<00:00,  4.58s/it]\n"
     ]
    },
    {
     "name": "stdout",
     "output_type": "stream",
     "text": [
      "Generation 141 with pop_fit: | on_test 0.5940449999999999 | on_train 0.7160136666666667 | on_full 0.6985895714285714\n"
     ]
    },
    {
     "name": "stderr",
     "output_type": "stream",
     "text": [
      "100%|██████████| 60/60 [01:19<00:00,  1.32s/it]\n",
      "100%|██████████| 60/60 [04:34<00:00,  4.58s/it]\n"
     ]
    },
    {
     "name": "stdout",
     "output_type": "stream",
     "text": [
      "Generation 142 with pop_fit: | on_test 0.5942066666666667 | on_train 0.7152613333333334 | on_full 0.6979678095238097\n"
     ]
    },
    {
     "name": "stderr",
     "output_type": "stream",
     "text": [
      "100%|██████████| 60/60 [01:19<00:00,  1.32s/it]\n",
      "100%|██████████| 60/60 [04:34<00:00,  4.58s/it]\n"
     ]
    },
    {
     "name": "stdout",
     "output_type": "stream",
     "text": [
      "Generation 143 with pop_fit: | on_test 0.5971516666666667 | on_train 0.7196190000000002 | on_full 0.7021236666666669\n"
     ]
    },
    {
     "name": "stderr",
     "output_type": "stream",
     "text": [
      "100%|██████████| 60/60 [01:19<00:00,  1.32s/it]\n",
      "100%|██████████| 60/60 [04:34<00:00,  4.58s/it]\n"
     ]
    },
    {
     "name": "stdout",
     "output_type": "stream",
     "text": [
      "Generation 144 with pop_fit: | on_test 0.59475 | on_train 0.7163660000000001 | on_full 0.6989922857142858\n"
     ]
    },
    {
     "name": "stderr",
     "output_type": "stream",
     "text": [
      "100%|██████████| 60/60 [01:19<00:00,  1.32s/it]\n",
      "100%|██████████| 60/60 [04:34<00:00,  4.58s/it]\n"
     ]
    },
    {
     "name": "stdout",
     "output_type": "stream",
     "text": [
      "Generation 145 with pop_fit: | on_test 0.5944999999999998 | on_train 0.7164953333333333 | on_full 0.6990674285714285\n"
     ]
    },
    {
     "name": "stderr",
     "output_type": "stream",
     "text": [
      "100%|██████████| 60/60 [01:19<00:00,  1.32s/it]\n",
      "100%|██████████| 60/60 [04:34<00:00,  4.58s/it]\n"
     ]
    },
    {
     "name": "stdout",
     "output_type": "stream",
     "text": [
      "Generation 146 with pop_fit: | on_test 0.5948416666666668 | on_train 0.7162189999999999 | on_full 0.6988793809523809\n"
     ]
    },
    {
     "name": "stderr",
     "output_type": "stream",
     "text": [
      "100%|██████████| 60/60 [01:19<00:00,  1.32s/it]\n",
      "100%|██████████| 60/60 [04:34<00:00,  4.58s/it]\n"
     ]
    },
    {
     "name": "stdout",
     "output_type": "stream",
     "text": [
      "Generation 147 with pop_fit: | on_test 0.5994866666666667 | on_train 0.7221609999999999 | on_full 0.7046360952380952\n"
     ]
    },
    {
     "name": "stderr",
     "output_type": "stream",
     "text": [
      "100%|██████████| 60/60 [01:19<00:00,  1.32s/it]\n",
      "100%|██████████| 60/60 [04:34<00:00,  4.58s/it]\n"
     ]
    },
    {
     "name": "stdout",
     "output_type": "stream",
     "text": [
      "Generation 148 with pop_fit: | on_test 0.5964916666666666 | on_train 0.7191993333333333 | on_full 0.7016696666666667\n"
     ]
    },
    {
     "name": "stderr",
     "output_type": "stream",
     "text": [
      "100%|██████████| 60/60 [01:19<00:00,  1.32s/it]\n",
      "100%|██████████| 60/60 [04:34<00:00,  4.58s/it]\n"
     ]
    },
    {
     "name": "stdout",
     "output_type": "stream",
     "text": [
      "Generation 149 with pop_fit: | on_test 0.5932216666666666 | on_train 0.7161423333333331 | on_full 0.6985822380952379\n"
     ]
    },
    {
     "name": "stderr",
     "output_type": "stream",
     "text": [
      "100%|██████████| 60/60 [01:19<00:00,  1.32s/it]\n",
      "100%|██████████| 60/60 [04:34<00:00,  4.58s/it]\n"
     ]
    },
    {
     "name": "stdout",
     "output_type": "stream",
     "text": [
      "Generation 150 with pop_fit: | on_test 0.5930866666666667 | on_train 0.7154006666666664 | on_full 0.6979272380952377\n"
     ]
    },
    {
     "name": "stderr",
     "output_type": "stream",
     "text": [
      "100%|██████████| 60/60 [01:19<00:00,  1.32s/it]\n",
      "100%|██████████| 60/60 [04:34<00:00,  4.58s/it]\n"
     ]
    },
    {
     "name": "stdout",
     "output_type": "stream",
     "text": [
      "Generation 151 with pop_fit: | on_test 0.5941433333333332 | on_train 0.7176943333333333 | on_full 0.7000441904761905\n"
     ]
    },
    {
     "name": "stderr",
     "output_type": "stream",
     "text": [
      "100%|██████████| 60/60 [01:19<00:00,  1.32s/it]\n",
      "100%|██████████| 60/60 [04:34<00:00,  4.58s/it]\n"
     ]
    },
    {
     "name": "stdout",
     "output_type": "stream",
     "text": [
      "Generation 152 with pop_fit: | on_test 0.596156666666667 | on_train 0.719333 | on_full 0.7017363809523811\n"
     ]
    },
    {
     "name": "stderr",
     "output_type": "stream",
     "text": [
      "100%|██████████| 60/60 [01:19<00:00,  1.32s/it]\n",
      "100%|██████████| 60/60 [04:34<00:00,  4.58s/it]\n"
     ]
    },
    {
     "name": "stdout",
     "output_type": "stream",
     "text": [
      "Generation 153 with pop_fit: | on_test 0.595985 | on_train 0.7196449999999999 | on_full 0.7019792857142856\n"
     ]
    },
    {
     "name": "stderr",
     "output_type": "stream",
     "text": [
      "100%|██████████| 60/60 [01:19<00:00,  1.32s/it]\n",
      "100%|██████████| 60/60 [04:34<00:00,  4.58s/it]\n"
     ]
    },
    {
     "name": "stdout",
     "output_type": "stream",
     "text": [
      "Generation 154 with pop_fit: | on_test 0.5939550000000001 | on_train 0.717363 | on_full 0.6997332857142858\n"
     ]
    },
    {
     "name": "stderr",
     "output_type": "stream",
     "text": [
      "100%|██████████| 60/60 [01:19<00:00,  1.32s/it]\n",
      "100%|██████████| 60/60 [04:34<00:00,  4.58s/it]\n"
     ]
    },
    {
     "name": "stdout",
     "output_type": "stream",
     "text": [
      "Generation 155 with pop_fit: | on_test 0.5943716666666667 | on_train 0.7177266666666667 | on_full 0.7001045238095239\n"
     ]
    },
    {
     "name": "stderr",
     "output_type": "stream",
     "text": [
      "100%|██████████| 60/60 [01:19<00:00,  1.32s/it]\n",
      "100%|██████████| 60/60 [04:34<00:00,  4.58s/it]\n"
     ]
    },
    {
     "name": "stdout",
     "output_type": "stream",
     "text": [
      "Generation 156 with pop_fit: | on_test 0.5964316666666665 | on_train 0.7202703333333332 | on_full 0.7025790952380951\n"
     ]
    },
    {
     "name": "stderr",
     "output_type": "stream",
     "text": [
      "100%|██████████| 60/60 [01:19<00:00,  1.32s/it]\n",
      "100%|██████████| 60/60 [04:34<00:00,  4.58s/it]\n"
     ]
    },
    {
     "name": "stdout",
     "output_type": "stream",
     "text": [
      "Generation 157 with pop_fit: | on_test 0.5959433333333334 | on_train 0.7202089999999999 | on_full 0.7024567619047619\n"
     ]
    },
    {
     "name": "stderr",
     "output_type": "stream",
     "text": [
      "100%|██████████| 60/60 [01:19<00:00,  1.32s/it]\n",
      "100%|██████████| 60/60 [04:34<00:00,  4.58s/it]\n"
     ]
    },
    {
     "name": "stdout",
     "output_type": "stream",
     "text": [
      "Generation 158 with pop_fit: | on_test 0.5954983333333331 | on_train 0.7197833333333334 | on_full 0.7020283333333335\n"
     ]
    },
    {
     "name": "stderr",
     "output_type": "stream",
     "text": [
      "100%|██████████| 60/60 [01:19<00:00,  1.33s/it]\n",
      "100%|██████████| 60/60 [04:34<00:00,  4.58s/it]\n"
     ]
    },
    {
     "name": "stdout",
     "output_type": "stream",
     "text": [
      "Generation 159 with pop_fit: | on_test 0.5949133333333335 | on_train 0.7192773333333332 | on_full 0.7015110476190475\n"
     ]
    },
    {
     "name": "stderr",
     "output_type": "stream",
     "text": [
      "100%|██████████| 60/60 [01:19<00:00,  1.32s/it]\n",
      "100%|██████████| 60/60 [04:34<00:00,  4.58s/it]\n"
     ]
    },
    {
     "name": "stdout",
     "output_type": "stream",
     "text": [
      "Generation 160 with pop_fit: | on_test 0.5972583333333333 | on_train 0.720945 | on_full 0.7032754761904761\n"
     ]
    },
    {
     "name": "stderr",
     "output_type": "stream",
     "text": [
      "100%|██████████| 60/60 [01:19<00:00,  1.32s/it]\n",
      "100%|██████████| 60/60 [04:34<00:00,  4.58s/it]\n"
     ]
    },
    {
     "name": "stdout",
     "output_type": "stream",
     "text": [
      "Generation 161 with pop_fit: | on_test 0.5999366666666667 | on_train 0.7247960000000002 | on_full 0.7069589523809524\n"
     ]
    },
    {
     "name": "stderr",
     "output_type": "stream",
     "text": [
      "100%|██████████| 60/60 [01:19<00:00,  1.32s/it]\n",
      "100%|██████████| 60/60 [04:34<00:00,  4.58s/it]\n"
     ]
    },
    {
     "name": "stdout",
     "output_type": "stream",
     "text": [
      "Generation 162 with pop_fit: | on_test 0.5985549999999997 | on_train 0.7227529999999999 | on_full 0.7050104285714285\n"
     ]
    },
    {
     "name": "stderr",
     "output_type": "stream",
     "text": [
      "100%|██████████| 60/60 [01:19<00:00,  1.32s/it]\n",
      "100%|██████████| 60/60 [04:34<00:00,  4.58s/it]\n"
     ]
    },
    {
     "name": "stdout",
     "output_type": "stream",
     "text": [
      "Generation 163 with pop_fit: | on_test 0.5974933333333332 | on_train 0.7214313333333332 | on_full 0.7037259047619047\n"
     ]
    },
    {
     "name": "stderr",
     "output_type": "stream",
     "text": [
      "100%|██████████| 60/60 [01:19<00:00,  1.32s/it]\n",
      "100%|██████████| 60/60 [04:34<00:00,  4.58s/it]\n"
     ]
    },
    {
     "name": "stdout",
     "output_type": "stream",
     "text": [
      "Generation 164 with pop_fit: | on_test 0.5992033333333334 | on_train 0.7232956666666663 | on_full 0.7055681904761902\n"
     ]
    },
    {
     "name": "stderr",
     "output_type": "stream",
     "text": [
      "100%|██████████| 60/60 [01:19<00:00,  1.33s/it]\n",
      "100%|██████████| 60/60 [04:34<00:00,  4.58s/it]\n"
     ]
    },
    {
     "name": "stdout",
     "output_type": "stream",
     "text": [
      "Generation 165 with pop_fit: | on_test 0.6007783333333331 | on_train 0.7261100000000001 | on_full 0.7082054761904762\n"
     ]
    },
    {
     "name": "stderr",
     "output_type": "stream",
     "text": [
      "100%|██████████| 100/100 [02:13<00:00,  1.34s/it]\n",
      "100%|██████████| 100/100 [07:34<00:00,  4.54s/it]\n"
     ]
    },
    {
     "name": "stdout",
     "output_type": "stream",
     "text": [
      "Generation 166 with pop_fit: | on_test 0.6028449999999999 | on_train 0.7287714 | on_full 0.7107819142857144\n"
     ]
    },
    {
     "name": "stderr",
     "output_type": "stream",
     "text": [
      "100%|██████████| 100/100 [02:14<00:00,  1.35s/it]\n",
      "100%|██████████| 100/100 [07:37<00:00,  4.57s/it]\n"
     ]
    },
    {
     "name": "stdout",
     "output_type": "stream",
     "text": [
      "Generation 167 with pop_fit: | on_test 0.6041969999999999 | on_train 0.7299968000000001 | on_full 0.7120254\n"
     ]
    },
    {
     "name": "stderr",
     "output_type": "stream",
     "text": [
      "100%|██████████| 100/100 [02:14<00:00,  1.35s/it]\n",
      "100%|██████████| 100/100 [07:37<00:00,  4.58s/it]\n"
     ]
    },
    {
     "name": "stdout",
     "output_type": "stream",
     "text": [
      "Generation 168 with pop_fit: | on_test 0.606093 | on_train 0.7322253999999999 | on_full 0.7142064857142856\n"
     ]
    },
    {
     "name": "stderr",
     "output_type": "stream",
     "text": [
      "100%|██████████| 100/100 [02:14<00:00,  1.35s/it]\n",
      "  0%|          | 0/100 [00:04<?, ?it/s]\n"
     ]
    },
    {
     "ename": "KeyboardInterrupt",
     "evalue": "",
     "output_type": "error",
     "traceback": [
      "\u001b[0;31m---------------------------------------------------------------------------\u001b[0m",
      "\u001b[0;31mKeyboardInterrupt\u001b[0m                         Traceback (most recent call last)",
      "\u001b[0;32m<ipython-input-37-b6b641637243>\u001b[0m in \u001b[0;36m<module>\u001b[0;34m\u001b[0m\n\u001b[1;32m     13\u001b[0m     \u001b[0;31m# trainning\u001b[0m\u001b[0;34m\u001b[0m\u001b[0;34m\u001b[0m\u001b[0;34m\u001b[0m\u001b[0m\n\u001b[1;32m     14\u001b[0m     \u001b[0mpop\u001b[0m\u001b[0;34m,\u001b[0m \u001b[0mavg_fit_test\u001b[0m\u001b[0;34m,\u001b[0m \u001b[0mbest_fit\u001b[0m \u001b[0;34m=\u001b[0m \u001b[0mevaluate_population\u001b[0m\u001b[0;34m(\u001b[0m\u001b[0mpop\u001b[0m\u001b[0;34m,\u001b[0m \u001b[0mtestloader\u001b[0m\u001b[0;34m)\u001b[0m\u001b[0;34m\u001b[0m\u001b[0;34m\u001b[0m\u001b[0m\n\u001b[0;32m---> 15\u001b[0;31m     \u001b[0mpop\u001b[0m\u001b[0;34m,\u001b[0m \u001b[0mavg_fit_train\u001b[0m\u001b[0;34m,\u001b[0m \u001b[0mbest_fit\u001b[0m \u001b[0;34m=\u001b[0m \u001b[0mevaluate_population\u001b[0m\u001b[0;34m(\u001b[0m\u001b[0mpop\u001b[0m\u001b[0;34m,\u001b[0m \u001b[0mtrainloader\u001b[0m\u001b[0;34m)\u001b[0m\u001b[0;34m\u001b[0m\u001b[0;34m\u001b[0m\u001b[0m\n\u001b[0m\u001b[1;32m     16\u001b[0m     \u001b[0;32mif\u001b[0m \u001b[0mavg_fit_test\u001b[0m \u001b[0;34m>\u001b[0m \u001b[0;36m0.5\u001b[0m\u001b[0;34m:\u001b[0m\u001b[0;34m\u001b[0m\u001b[0;34m\u001b[0m\u001b[0m\n\u001b[1;32m     17\u001b[0m         \u001b[0mpopulation_size\u001b[0m \u001b[0;34m=\u001b[0m \u001b[0;36m60\u001b[0m\u001b[0;34m\u001b[0m\u001b[0;34m\u001b[0m\u001b[0m\n",
      "\u001b[0;32m<ipython-input-25-55f8da0a58a5>\u001b[0m in \u001b[0;36mevaluate_population\u001b[0;34m(pop, data_loader)\u001b[0m\n\u001b[1;32m      6\u001b[0m     \u001b[0;32mfor\u001b[0m \u001b[0magent\u001b[0m \u001b[0;32min\u001b[0m \u001b[0mtqdm\u001b[0m\u001b[0;34m(\u001b[0m\u001b[0mpop\u001b[0m\u001b[0;34m)\u001b[0m\u001b[0;34m:\u001b[0m\u001b[0;34m\u001b[0m\u001b[0;34m\u001b[0m\u001b[0m\n\u001b[1;32m      7\u001b[0m         \u001b[0mchange_scores\u001b[0m\u001b[0;34m(\u001b[0m\u001b[0mga_module_list\u001b[0m\u001b[0;34m,\u001b[0m \u001b[0magent\u001b[0m\u001b[0;34m)\u001b[0m\u001b[0;34m\u001b[0m\u001b[0;34m\u001b[0m\u001b[0m\n\u001b[0;32m----> 8\u001b[0;31m         \u001b[0mfit\u001b[0m \u001b[0;34m=\u001b[0m \u001b[0mtest\u001b[0m\u001b[0;34m(\u001b[0m\u001b[0mga_model\u001b[0m\u001b[0;34m.\u001b[0m\u001b[0mto\u001b[0m\u001b[0;34m(\u001b[0m\u001b[0mdevice\u001b[0m\u001b[0;34m)\u001b[0m\u001b[0;34m,\u001b[0m \u001b[0mdevice\u001b[0m\u001b[0;34m,\u001b[0m \u001b[0mdata_loader\u001b[0m\u001b[0;34m)\u001b[0m\u001b[0;34m\u001b[0m\u001b[0;34m\u001b[0m\u001b[0m\n\u001b[0m\u001b[1;32m      9\u001b[0m         \u001b[0magent\u001b[0m\u001b[0;34m.\u001b[0m\u001b[0mfitness\u001b[0m \u001b[0;34m=\u001b[0m \u001b[0mfit\u001b[0m\u001b[0;34m\u001b[0m\u001b[0;34m\u001b[0m\u001b[0m\n\u001b[1;32m     10\u001b[0m         \u001b[0;32mif\u001b[0m \u001b[0mfit\u001b[0m \u001b[0;34m>\u001b[0m \u001b[0mbest_fit\u001b[0m\u001b[0;34m:\u001b[0m\u001b[0;34m\u001b[0m\u001b[0;34m\u001b[0m\u001b[0m\n",
      "\u001b[0;32m<ipython-input-27-ed0bb8e2217b>\u001b[0m in \u001b[0;36mtest\u001b[0;34m(model, device, data_loader)\u001b[0m\n\u001b[1;32m     13\u001b[0m             \u001b[0m_\u001b[0m\u001b[0;34m,\u001b[0m \u001b[0mpredicted\u001b[0m \u001b[0;34m=\u001b[0m \u001b[0mtorch\u001b[0m\u001b[0;34m.\u001b[0m\u001b[0mmax\u001b[0m\u001b[0;34m(\u001b[0m\u001b[0moutputs\u001b[0m\u001b[0;34m.\u001b[0m\u001b[0mdata\u001b[0m\u001b[0;34m,\u001b[0m \u001b[0;36m1\u001b[0m\u001b[0;34m)\u001b[0m\u001b[0;34m\u001b[0m\u001b[0;34m\u001b[0m\u001b[0m\n\u001b[1;32m     14\u001b[0m             \u001b[0mtotal\u001b[0m \u001b[0;34m+=\u001b[0m \u001b[0mlabels\u001b[0m\u001b[0;34m.\u001b[0m\u001b[0msize\u001b[0m\u001b[0;34m(\u001b[0m\u001b[0;36m0\u001b[0m\u001b[0;34m)\u001b[0m\u001b[0;34m\u001b[0m\u001b[0;34m\u001b[0m\u001b[0m\n\u001b[0;32m---> 15\u001b[0;31m             \u001b[0mcorrect\u001b[0m \u001b[0;34m+=\u001b[0m \u001b[0;34m(\u001b[0m\u001b[0mpredicted\u001b[0m \u001b[0;34m==\u001b[0m \u001b[0mlabels\u001b[0m\u001b[0;34m)\u001b[0m\u001b[0;34m.\u001b[0m\u001b[0msum\u001b[0m\u001b[0;34m(\u001b[0m\u001b[0;34m)\u001b[0m\u001b[0;34m.\u001b[0m\u001b[0mitem\u001b[0m\u001b[0;34m(\u001b[0m\u001b[0;34m)\u001b[0m\u001b[0;34m\u001b[0m\u001b[0;34m\u001b[0m\u001b[0m\n\u001b[0m\u001b[1;32m     16\u001b[0m     \u001b[0;32mreturn\u001b[0m \u001b[0mcorrect\u001b[0m\u001b[0;34m/\u001b[0m\u001b[0mtotal\u001b[0m\u001b[0;34m\u001b[0m\u001b[0;34m\u001b[0m\u001b[0m\n\u001b[1;32m     17\u001b[0m \u001b[0;34m\u001b[0m\u001b[0m\n",
      "\u001b[0;31mKeyboardInterrupt\u001b[0m: "
     ]
    }
   ],
   "source": [
    "\n",
    "num_generations = 10000\n",
    "population_size = 30\n",
    "\n",
    "pop = init_pop(population_size)\n",
    "\n",
    "mutation_rate = 0.2 # 0.1% mutation rate\n",
    "\n",
    "pop_fit = []\n",
    "\n",
    "pop = init_pop(population_size) # initial population\n",
    "\n",
    "for gen in range(num_generations):\n",
    "    # trainning\n",
    "    pop, avg_fit_test, best_fit = evaluate_population(pop, testloader)\n",
    "    pop, avg_fit_train, best_fit = evaluate_population(pop, trainloader)\n",
    "    if avg_fit_test > 0.5:\n",
    "        population_size = 60\n",
    "        mutation_rate = 0.15\n",
    "    if avg_fit_test > 0.6:\n",
    "        population_size = 100\n",
    "        mutation_rate = 0.1\n",
    "    if avg_fit_test > 0.7:\n",
    "        population_size = 200\n",
    "        mutation_rate = 0.05\n",
    "    if avg_fit_test > 0.8:\n",
    "        population_size = 300\n",
    "        mutation_rate = 0.01\n",
    "    avg_fit_full = (avg_fit_train * 6 + avg_fit_test) / 7\n",
    "    \n",
    "    message = 'Generation {} with pop_fit: | on_test {} | on_train {} | on_full {}'.format(gen, avg_fit_test, avg_fit_train, avg_fit_full)\n",
    "    print(message)\n",
    "    logging.info(message)\n",
    "    pop_fit.append(avg_fit_test) # record population average fitness\n",
    "    new_pop = next_generation(pop, size=population_size, mut_rate=mutation_rate)\n",
    "    pop = new_pop"
   ]
  },
  {
   "cell_type": "code",
   "execution_count": null,
   "id": "743dd9c7",
   "metadata": {},
   "outputs": [],
   "source": []
  }
 ],
 "metadata": {
  "kernelspec": {
   "display_name": "Python [conda env:linhdb_env] *",
   "language": "python",
   "name": "conda-env-linhdb_env-py"
  },
  "language_info": {
   "codemirror_mode": {
    "name": "ipython",
    "version": 3
   },
   "file_extension": ".py",
   "mimetype": "text/x-python",
   "name": "python",
   "nbconvert_exporter": "python",
   "pygments_lexer": "ipython3",
   "version": "3.6.12"
  }
 },
 "nbformat": 4,
 "nbformat_minor": 5
}
